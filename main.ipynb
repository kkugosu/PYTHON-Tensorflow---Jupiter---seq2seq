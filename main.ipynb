{
 "cells": [
  {
   "cell_type": "code",
   "execution_count": 1,
   "metadata": {
    "collapsed": true
   },
   "outputs": [],
   "source": [
    "import tensorflow as tf"
   ]
  },
  {
   "cell_type": "code",
   "execution_count": 2,
   "metadata": {
    "collapsed": true
   },
   "outputs": [],
   "source": [
    "import numpy as np\n",
    "from __future__ import absolute_import\n",
    "from __future__ import division\n",
    "from __future__ import print_function"
   ]
  },
  {
   "cell_type": "code",
   "execution_count": 3,
   "metadata": {
    "collapsed": true
   },
   "outputs": [],
   "source": [
    "import io,os,sys,types\n",
    "from IPython import get_ipython #for import notebook\n",
    "from nbformat import read #for import notebook\n",
    "from IPython.core.interactiveshell import InteractiveShell #for import notebook"
   ]
  },
  {
   "cell_type": "code",
   "execution_count": 4,
   "metadata": {
    "collapsed": true
   },
   "outputs": [],
   "source": [
    "def find_notebook(fullname, path=None): #for import notebook\n",
    "    \"\"\"find a notebook, given its fully qualified name and an optional path\n",
    "\n",
    "    This turns \"foo.bar\" into \"foo/bar.ipynb\"\n",
    "    and tries turning \"Foo_Bar\" into \"Foo Bar\" if Foo_Bar\n",
    "    does not exist.\n",
    "    \"\"\"\n",
    "    name = fullname.rsplit('.', 1)[-1]\n",
    "    if not path:\n",
    "        path = ['']\n",
    "    for d in path:\n",
    "        nb_path = os.path.join(d, name + \".ipynb\")\n",
    "        if os.path.isfile(nb_path):\n",
    "            return nb_path\n",
    "        # let import Notebook_Name find \"Notebook Name.ipynb\"\n",
    "        nb_path = nb_path.replace(\"_\", \" \")\n",
    "        if os.path.isfile(nb_path):\n",
    "            return nb_path"
   ]
  },
  {
   "cell_type": "code",
   "execution_count": 5,
   "metadata": {
    "collapsed": true
   },
   "outputs": [],
   "source": [
    "class NotebookLoader(object): #for import notebook\n",
    "    \"\"\"Module Loader for Jupyter Notebooks\"\"\"\n",
    "    def __init__(self, path=None):\n",
    "        self.shell = InteractiveShell.instance()\n",
    "        self.path = path\n",
    "\n",
    "    def load_module(self, fullname):\n",
    "        \"\"\"import a notebook as a module\"\"\"\n",
    "        path = find_notebook(fullname, self.path)\n",
    "\n",
    "        print (\"importing Jupyter notebook from %s\" % path)\n",
    "\n",
    "        # load the notebook object\n",
    "        with io.open(path, 'r', encoding='utf-8') as f:\n",
    "            nb = read(f, 4)\n",
    "\n",
    "\n",
    "        # create the module and add it to sys.modules\n",
    "        # if name in sys.modules:\n",
    "        #    return sys.modules[name]\n",
    "        mod = types.ModuleType(fullname)\n",
    "        mod.__file__ = path\n",
    "        mod.__loader__ = self\n",
    "        mod.__dict__['get_ipython'] = get_ipython\n",
    "        sys.modules[fullname] = mod\n",
    "\n",
    "        # extra work to ensure that magics that would affect the user_ns\n",
    "        # actually affect the notebook module's ns\n",
    "        save_user_ns = self.shell.user_ns\n",
    "        self.shell.user_ns = mod.__dict__\n",
    "\n",
    "        try:\n",
    "          for cell in nb.cells:\n",
    "            if cell.cell_type == 'code':\n",
    "                # transform the input to executable Python\n",
    "                code = self.shell.input_transformer_manager.transform_cell(cell.source)\n",
    "                # run the code in themodule\n",
    "                exec(code, mod.__dict__)\n",
    "        finally:\n",
    "            self.shell.user_ns = save_user_ns\n",
    "        return mod\n",
    "class NotebookFinder(object):\n",
    "    \"\"\"Module finder that locates Jupyter Notebooks\"\"\"\n",
    "    def __init__(self):\n",
    "        self.loaders = {}\n",
    "\n",
    "    def find_module(self, fullname, path=None):\n",
    "        nb_path = find_notebook(fullname, path)\n",
    "        if not nb_path:\n",
    "            return\n",
    "\n",
    "        key = path\n",
    "        if path:\n",
    "            # lists aren't hashable\n",
    "            key = os.path.sep.join(path)\n",
    "\n",
    "        if key not in self.loaders:\n",
    "            self.loaders[key] = NotebookLoader(path)\n",
    "        return self.loaders[key]"
   ]
  },
  {
   "cell_type": "code",
   "execution_count": 6,
   "metadata": {
    "collapsed": false
   },
   "outputs": [],
   "source": [
    "sys.meta_path.append(NotebookFinder())"
   ]
  },
  {
   "cell_type": "code",
   "execution_count": 7,
   "metadata": {
    "collapsed": false
   },
   "outputs": [
    {
     "name": "stdout",
     "output_type": "stream",
     "text": [
      "importing Jupyter notebook from myprepdata.ipynb\n"
     ]
    }
   ],
   "source": [
    "import myprepdata"
   ]
  },
  {
   "cell_type": "code",
   "execution_count": 8,
   "metadata": {
    "collapsed": false
   },
   "outputs": [
    {
     "name": "stdout",
     "output_type": "stream",
     "text": [
      "importing Jupyter notebook from encoder.ipynb\n"
     ]
    }
   ],
   "source": [
    "import encoder"
   ]
  },
  {
   "cell_type": "code",
   "execution_count": 9,
   "metadata": {
    "collapsed": false
   },
   "outputs": [
    {
     "name": "stdout",
     "output_type": "stream",
     "text": [
      "importing Jupyter notebook from decoder.ipynb\n"
     ]
    }
   ],
   "source": [
    "import decoder"
   ]
  },
  {
   "cell_type": "code",
   "execution_count": 10,
   "metadata": {
    "collapsed": false
   },
   "outputs": [
    {
     "name": "stdout",
     "output_type": "stream",
     "text": [
      "[  8.89466166e-01   2.06377721e+00   6.17529333e-01   3.18206835e+00\n",
      "   7.67453134e-01  -1.99592626e+00  -1.48355320e-01  -1.96766481e-01\n",
      "  -3.16980266e-04   2.14467272e-01  -4.14004624e-01   3.57001126e-01\n",
      "  -1.75457168e+00  -1.39167953e+00   2.63751793e+00   1.19258475e+00\n",
      "   6.61663294e-01  -3.63710284e-01   1.10500908e+00  -1.90649366e+00\n",
      "  -1.27631116e+00   7.06363976e-01   2.16604018e+00   7.20149457e-01\n",
      "   1.19366109e+00   3.15650672e-01  -3.05436397e+00   7.40569711e-01\n",
      "   8.19141865e-01   1.18011284e+00   4.69861925e-01   8.27771947e-02\n",
      "   1.12338221e+00   2.47764182e+00   3.43266904e-01  -2.68325806e+00\n",
      "  -1.40979004e+00  -1.32848775e+00   7.03199029e-01   9.64148343e-02\n",
      "   3.22712660e-01  -2.13381246e-01  -1.01692128e+00   1.25775146e+00\n",
      "   1.02071427e-01  -1.11394691e+00  -2.41053867e+00  -1.19636559e+00\n",
      "   4.32757884e-01   1.38155115e+00   1.13593802e-01  -1.06976998e+00\n",
      "   1.57687080e+00   1.43941748e+00   2.68036485e-01   1.28006709e+00\n",
      "   1.21146309e+00   6.14654839e-01   2.15204167e+00   1.22273111e+00\n",
      "   1.90594003e-01   2.39681888e+00   1.16187465e+00  -1.55696607e+00\n",
      "  -7.31308460e-01   1.52452505e+00   9.97587621e-01   3.14125925e-01\n",
      "   1.44812167e+00  -1.64439595e+00  -1.27866435e+00  -8.83129060e-01\n",
      "   8.16591024e-01   1.95926383e-01  -1.66098487e+00   8.79419565e-01\n",
      "  -5.52360296e-01   9.31477249e-01  -1.61542225e+00  -2.95410728e+00\n",
      "   8.43243837e-01   5.40459573e-01  -8.84331405e-01  -1.23990583e+00\n",
      "  -2.10240602e+00  -5.83475113e-01   1.54290402e+00   5.65786250e-02\n",
      "   8.37796569e-01   1.36398625e+00   1.77913010e-01  -1.51402771e+00\n",
      "  -1.28882706e+00  -2.48839760e+00   3.25758278e-01  -5.80109358e-01\n",
      "   2.52578783e+00   4.08504963e+00  -1.20362306e+00  -8.87646019e-01]\n"
     ]
    }
   ],
   "source": [
    "dataset_loader = myprepdata.prep()"
   ]
  },
  {
   "cell_type": "code",
   "execution_count": 11,
   "metadata": {
    "collapsed": false
   },
   "outputs": [
    {
     "data": {
      "text/plain": [
       "'Res@@ um@@ ption of the session'"
      ]
     },
     "execution_count": 11,
     "metadata": {},
     "output_type": "execute_result"
    }
   ],
   "source": [
    "newline = dataset_loader.prepare_line()[0]\n",
    "newline"
   ]
  },
  {
   "cell_type": "code",
   "execution_count": 12,
   "metadata": {
    "collapsed": false
   },
   "outputs": [
    {
     "data": {
      "text/plain": [
       "'Wiederaufnahme der Sitzungsperiode'"
      ]
     },
     "execution_count": 12,
     "metadata": {},
     "output_type": "execute_result"
    }
   ],
   "source": [
    "deline = dataset_loader.de_prepare_line()[0]\n",
    "deline"
   ]
  },
  {
   "cell_type": "code",
   "execution_count": 13,
   "metadata": {
    "collapsed": false
   },
   "outputs": [
    {
     "data": {
      "text/plain": [
       "array([-0.67258787, -4.15615225, -1.72683489,  1.6745466 , -0.66765279,\n",
       "        1.20479822, -0.54290372, -0.17763264, -6.63635206, -3.36331749,\n",
       "       -1.20754302, -4.75114679,  3.3733356 , -2.00328326,  1.61597621,\n",
       "       -2.5903039 ,  3.89082551,  2.05730581, -0.37433237, -1.15445471,\n",
       "        0.9606185 ,  4.23989391,  1.05038905, -1.0970273 , -3.27382827,\n",
       "        1.57637691, -4.19764471, -2.15746975,  2.48696518, -0.61238277,\n",
       "       -1.74696052, -0.37781578,  0.34524947,  2.54945087, -1.64452887,\n",
       "        0.57680875, -0.14833695,  1.02612078, -0.26212877, -0.51345897,\n",
       "       -1.39085841,  0.09278773, -1.48713863, -0.46643406,  7.02497864,\n",
       "        2.74286199, -0.83628732, -1.48309898, -0.32239187, -3.01059842,\n",
       "        1.07048142, -3.00496078,  0.34531841,  3.417485  ,  2.11597872,\n",
       "        0.14785768,  0.43224403,  0.61093956, -2.73394179, -1.91496217,\n",
       "       -2.31602764,  2.11022353,  3.03709865,  0.61163723,  0.87978035,\n",
       "       -1.34368658, -4.88440132, -1.7299546 , -0.21339908, -1.17470872,\n",
       "       -2.59537339,  1.38333321,  0.88531542,  0.43189961,  1.67749929,\n",
       "       -1.24953771,  1.51133716, -1.71328628,  2.10449433,  0.8787359 ,\n",
       "        4.48812008, -0.84192741,  3.90984416,  0.00753402,  2.64509892,\n",
       "        2.40421772,  1.52942765, -1.00621092, -0.50308841,  0.01391463,\n",
       "       -0.20117365,  1.02307236,  4.01931715, -0.79575706,  0.7374779 ,\n",
       "        1.36256838, -1.06702769, -0.8350783 ,  0.61838496,  1.31033885], dtype=float32)"
      ]
     },
     "execution_count": 13,
     "metadata": {},
     "output_type": "execute_result"
    }
   ],
   "source": [
    "dataset_loader.get_wvmodel().wv[\"Res@@\"]"
   ]
  },
  {
   "cell_type": "code",
   "execution_count": 14,
   "metadata": {
    "collapsed": false
   },
   "outputs": [
    {
     "data": {
      "text/plain": [
       "6"
      ]
     },
     "execution_count": 14,
     "metadata": {},
     "output_type": "execute_result"
    }
   ],
   "source": [
    "len(newline.split(' '))"
   ]
  },
  {
   "cell_type": "code",
   "execution_count": 15,
   "metadata": {
    "collapsed": false
   },
   "outputs": [
    {
     "data": {
      "text/plain": [
       "'Res@@'"
      ]
     },
     "execution_count": 15,
     "metadata": {},
     "output_type": "execute_result"
    }
   ],
   "source": [
    "newline.split(' ')[0]"
   ]
  },
  {
   "cell_type": "code",
   "execution_count": 16,
   "metadata": {
    "collapsed": false
   },
   "outputs": [],
   "source": [
    "padding_line = np.full((1, 484, 100), 0, dtype=\"float32\")\n",
    "de_padding_line = np.full((1, 3, 100), 0, dtype=\"float32\")\n",
    "i = 0\n",
    "#padding_line"
   ]
  },
  {
   "cell_type": "code",
   "execution_count": 17,
   "metadata": {
    "collapsed": false
   },
   "outputs": [],
   "source": [
    "while(i < len(newline.split(' '))):\n",
    "    padding_line[0][i] = dataset_loader.get_wvmodel().wv[newline.split(' ')[i]]\n",
    "    i = i + 1\n",
    "i = 0\n",
    "\n",
    "while(i < len(deline.split(' '))):\n",
    "    de_padding_line[0][i] = dataset_loader.de_get_wvmodel().wv[deline.split(' ')[i]]\n",
    "    i = i + 1"
   ]
  },
  {
   "cell_type": "code",
   "execution_count": 18,
   "metadata": {
    "collapsed": false
   },
   "outputs": [
    {
     "data": {
      "text/plain": [
       "array([-1.16796255,  4.08470106, -1.14912891,  0.16463454, -0.60790056,\n",
       "        0.98632014,  0.03656695, -1.04373217,  4.78645897,  3.07820916,\n",
       "       -0.23398891,  2.22593546, -0.22403085,  0.36990732,  4.49744558,\n",
       "        0.15719461, -1.70705783, -1.05890298,  2.06401539, -4.90328693,\n",
       "       -1.15247893,  1.36518836, -0.30293822,  3.44166207,  0.95330393,\n",
       "       -0.92819381, -0.33055443, -1.3885417 , -0.45812017,  1.86859751,\n",
       "       -0.60691816, -0.73033249,  2.29482031, -1.34969199, -1.00371766,\n",
       "       -3.21881509, -0.60357022,  0.05063005,  0.37750426,  1.24002087,\n",
       "        0.33714008, -1.77580595, -0.61027128, -0.23812634, -1.28080368,\n",
       "       -3.05595374, -2.05308676, -0.70262378,  0.17834105, -0.98828769,\n",
       "       -1.62905455,  1.10368884,  1.40606165,  2.52097225,  0.14530618,\n",
       "       -0.47233748, -1.1117965 , -1.03726923,  2.86678886,  2.92978334,\n",
       "       -2.53581524,  0.39890549, -2.79667115, -0.61639524,  1.67488325,\n",
       "       -1.26576602, -0.78218991, -0.09562778,  0.27236822, -0.84041095,\n",
       "       -0.09073656, -0.21126667, -0.56287158,  4.15755558,  0.28990132,\n",
       "        0.0696492 ,  2.08687687,  2.3506372 , -3.27986836, -1.40178764,\n",
       "       -0.39975446,  1.13264859, -1.16840935,  0.1811862 , -0.25858748,\n",
       "       -0.47789636,  1.30228972,  0.74855608, -1.27159715,  0.81036502,\n",
       "        1.27929735, -0.54708737, -1.40165508, -4.1036377 ,  0.66551441,\n",
       "        2.03494978,  3.49432588, -0.76101369, -3.98785472,  3.79366946], dtype=float32)"
      ]
     },
     "execution_count": 18,
     "metadata": {},
     "output_type": "execute_result"
    }
   ],
   "source": [
    "de_padding_line[0][2]"
   ]
  },
  {
   "cell_type": "code",
   "execution_count": 19,
   "metadata": {
    "collapsed": false
   },
   "outputs": [
    {
     "name": "stdout",
     "output_type": "stream",
     "text": [
      "hidden =  [array([[  7.37671690e-27,  -8.27621786e-28,   4.01945893e-26,\n",
      "          2.34061841e-26,  -3.11953812e-27,  -1.66642706e-26,\n",
      "         -1.34365433e-25,   1.84866857e-26,   3.16183185e-26,\n",
      "          1.07770368e-25,  -8.46192727e-26,   2.98422167e-26,\n",
      "          1.26254698e-25,  -5.47110537e-26,  -2.21898733e-25,\n",
      "         -1.95382160e-25,   1.15289901e-25,   7.82334129e-26,\n",
      "         -2.20178936e-27,  -4.45920883e-26,  -1.21213606e-25,\n",
      "          5.89048539e-26,  -1.27377161e-25,  -1.35287796e-25,\n",
      "          4.57606008e-26,  -1.24194317e-25,   9.81226856e-26,\n",
      "         -1.51041065e-25,  -2.99415565e-27,  -2.34971681e-26,\n",
      "          1.36964261e-25,  -7.61036548e-26,  -2.52193562e-26,\n",
      "         -1.54978467e-25,   1.02527605e-25,  -3.58128923e-25,\n",
      "         -1.69437375e-25,   1.15584948e-25,  -2.71511841e-26,\n",
      "          6.57874373e-26,  -2.19508158e-26,  -2.39391686e-27,\n",
      "          7.11281735e-26,   4.35291599e-26,   8.17944296e-26,\n",
      "          7.52072192e-26,  -8.65555750e-26,  -1.95063411e-25,\n",
      "          1.10293609e-26,   2.91264025e-26,  -1.49036224e-25,\n",
      "          4.69120450e-26,   2.32922861e-26,  -1.07157238e-25,\n",
      "          1.32171894e-25,  -6.09306118e-26,  -6.74762467e-26,\n",
      "         -2.76322370e-25,  -1.41005842e-25,   5.02655574e-26,\n",
      "         -8.88451636e-26,  -4.20734303e-27,   1.23846330e-25,\n",
      "          5.97719785e-26,  -8.39904520e-26,   1.02116417e-25,\n",
      "          1.62552647e-26,  -1.74501483e-27,   1.39751122e-25,\n",
      "         -8.07580020e-26,   9.08975024e-26,  -3.74825780e-26,\n",
      "         -1.54894737e-25,   3.61695005e-26,   3.37776096e-26,\n",
      "          9.96699746e-26,  -1.21894282e-25,  -1.06185263e-25,\n",
      "          3.34253924e-26,  -7.41928982e-26,   1.29981450e-25,\n",
      "         -3.45159032e-26,   1.99535044e-25,  -1.15286598e-25,\n",
      "          5.79380556e-26,  -3.14618042e-25,   7.95145215e-27,\n",
      "          9.94256557e-26,   1.42937929e-26,  -2.73244685e-26,\n",
      "         -1.28437908e-25,  -4.96679152e-26,   9.96346423e-26,\n",
      "         -2.10627033e-26,  -7.90378661e-26,  -5.23678101e-26,\n",
      "          1.00486680e-25,   9.01275063e-26,  -1.09569490e-26,\n",
      "          1.21449019e-25]], dtype=float32)]\n",
      "en =  [array([[[ -7.23885298e-01,   3.58162969e-02,   2.22722396e-01, ...,\n",
      "          -1.80677548e-01,  -2.33153537e-01,   1.94654226e-01],\n",
      "        [ -2.37681597e-01,   3.83291766e-02,   5.76960266e-01, ...,\n",
      "          -2.06660151e-01,   2.56737232e-01,  -1.30939662e-01],\n",
      "        [ -3.06794256e-01,   7.19531715e-01,   5.08075178e-01, ...,\n",
      "          -2.61798799e-01,   2.91619569e-01,  -7.88969994e-02],\n",
      "        ..., \n",
      "        [ -1.20729807e-27,   1.14805994e-26,   4.63271201e-26, ...,\n",
      "           1.20977330e-25,  -1.18648455e-26,   1.23957547e-25],\n",
      "        [  3.60288221e-27,   4.65690862e-27,   4.32292171e-26, ...,\n",
      "           1.04566533e-25,  -1.14439959e-26,   1.23477082e-25],\n",
      "        [  7.37671690e-27,  -8.27621786e-28,   4.01945893e-26, ...,\n",
      "           9.01275063e-26,  -1.09569490e-26,   1.21449019e-25]]], dtype=float32)]\n",
      "(1, 1, 484, 100)\n",
      "(1, 1, 100)\n",
      "[array([[  1.63569153e-26,  -6.72680953e-27,   3.73333600e-26,\n",
      "         -1.01190763e-26,  -9.36773481e-27,  -1.46416143e-26,\n",
      "         -9.34195153e-26,   5.12074019e-26,  -1.39737881e-26,\n",
      "          9.47268612e-26,  -3.92581745e-26,  -3.97014280e-28,\n",
      "          9.86082541e-26,  -3.98903910e-26,  -1.86250097e-25,\n",
      "         -1.50085594e-25,   6.25493297e-26,   6.08223899e-26,\n",
      "          3.79316247e-26,  -4.51743139e-26,  -1.10651670e-25,\n",
      "          3.50614899e-26,  -8.88069100e-26,  -8.07366843e-26,\n",
      "          4.34600544e-26,  -4.17191185e-26,   7.63569778e-26,\n",
      "         -1.12203803e-25,  -3.63545084e-27,  -7.95730235e-27,\n",
      "          9.83085856e-26,  -2.15545396e-26,  -2.73400115e-26,\n",
      "         -9.92761974e-26,   1.11802446e-25,  -2.56552358e-25,\n",
      "         -1.15092341e-25,   8.97097429e-26,  -2.20196039e-26,\n",
      "          5.57426680e-26,  -3.98176648e-26,  -8.95409667e-27,\n",
      "          8.51500652e-26,   4.26601834e-26,   3.98031788e-26,\n",
      "          2.69620147e-26,  -7.60194439e-26,  -1.17931180e-25,\n",
      "          1.27296497e-27,   4.36250373e-26,  -9.62777001e-26,\n",
      "          4.20803490e-26,   6.02294762e-27,  -5.91265978e-26,\n",
      "          1.10277491e-25,  -6.93771180e-26,  -6.97607756e-26,\n",
      "         -2.07154233e-25,  -7.11215853e-26,   3.50866749e-26,\n",
      "         -1.11384300e-25,  -4.18653628e-26,   1.00033276e-25,\n",
      "          5.49564757e-26,  -4.94483869e-26,   6.49536914e-26,\n",
      "          2.08716217e-26,   3.44769964e-26,   9.83770870e-26,\n",
      "         -7.16079119e-26,   7.27549218e-26,  -2.11281433e-26,\n",
      "         -1.30557737e-25,   9.94576724e-27,  -5.15905633e-27,\n",
      "          6.17547126e-26,  -7.78561771e-26,  -5.61370122e-26,\n",
      "          6.59693190e-26,  -5.07174453e-26,   8.93326612e-26,\n",
      "         -3.03291873e-26,   1.30099877e-25,  -7.41754508e-26,\n",
      "          5.68010667e-26,  -1.90014960e-25,   5.68652386e-27,\n",
      "          5.61229051e-26,  -2.43560804e-29,   2.37775311e-28,\n",
      "         -9.92984149e-26,  -3.66344786e-26,   8.09793946e-26,\n",
      "         -2.12756310e-26,  -7.23697790e-26,  -3.88091801e-26,\n",
      "          8.53062103e-26,   8.94371791e-26,  -7.38048710e-28,\n",
      "          1.21546986e-25],\n",
      "       [  2.83811693e-26,  -1.19867838e-26,   6.85634327e-26,\n",
      "         -1.85460798e-26,  -2.13170955e-26,  -1.25337757e-26,\n",
      "         -4.86332009e-26,   5.25612659e-26,  -5.95938315e-26,\n",
      "          3.17360899e-26,   7.97099879e-27,  -1.31105462e-26,\n",
      "          5.86933221e-26,  -2.61104578e-26,  -1.54065484e-25,\n",
      "         -9.70772785e-26,   5.80844756e-26,   2.63825932e-26,\n",
      "          2.56248430e-26,  -7.34912742e-26,  -9.12798287e-26,\n",
      "          5.45239858e-27,  -5.89868277e-26,   1.89284709e-27,\n",
      "          4.18907759e-26,  -1.37375658e-26,   5.90839931e-26,\n",
      "         -1.02763493e-25,   4.07420003e-27,   1.56406281e-26,\n",
      "          3.88178607e-26,  -1.90411779e-26,  -9.82326038e-27,\n",
      "         -5.73650776e-26,   1.31861169e-25,  -1.74048083e-25,\n",
      "         -6.39627650e-26,   8.29538086e-26,  -4.57498095e-26,\n",
      "          3.90322891e-26,  -6.57941180e-26,   4.47489437e-27,\n",
      "          9.56686810e-26,   2.95767558e-26,  -2.81027661e-26,\n",
      "         -1.25266027e-27,  -5.27442139e-26,  -4.85143294e-26,\n",
      "         -9.12250152e-27,   5.31999536e-26,  -3.75537696e-26,\n",
      "          2.20516406e-26,  -1.40119261e-26,  -3.48079574e-26,\n",
      "          1.03068264e-25,  -9.25392575e-26,  -6.04027344e-26,\n",
      "         -1.42372790e-25,  -5.39317515e-26,   1.13993667e-26,\n",
      "         -9.79531976e-26,  -5.99668518e-26,   7.00320390e-26,\n",
      "          3.58270764e-26,  -1.15745724e-26,   4.07787593e-26,\n",
      "          2.39622940e-26,   6.96336334e-26,   5.53565884e-26,\n",
      "         -6.52829238e-26,   6.41201674e-26,   1.08317520e-26,\n",
      "         -9.90370740e-26,  -5.69167765e-28,  -7.41043608e-27,\n",
      "          5.56954350e-26,  -2.50831021e-26,  -4.10060776e-26,\n",
      "          7.62953419e-26,  -3.62664072e-26,   2.42456615e-26,\n",
      "         -2.29252470e-26,   6.36916866e-26,  -4.62498980e-26,\n",
      "          4.97538548e-26,  -1.19444819e-25,  -3.02804382e-26,\n",
      "          5.13365286e-26,  -1.15066256e-26,   2.09369231e-27,\n",
      "         -8.31634669e-26,  -2.99905718e-26,   6.65150629e-26,\n",
      "          6.50431070e-27,  -6.90749042e-26,  -5.89481242e-27,\n",
      "          9.02873801e-26,   5.24098848e-26,  -4.04308971e-27,\n",
      "          1.16142093e-25],\n",
      "       [  3.07591812e-26,  -1.26813504e-26,   7.88096450e-26,\n",
      "         -1.95167624e-26,  -3.06017388e-26,  -1.45417787e-26,\n",
      "         -2.24163531e-26,   5.59507054e-26,  -7.91437769e-26,\n",
      "         -1.07393921e-26,   3.22688206e-26,  -1.75846433e-26,\n",
      "          2.81129905e-26,  -2.16554074e-26,  -1.27857639e-25,\n",
      "         -5.68204369e-26,   5.24060267e-26,   6.33502146e-27,\n",
      "          1.51553091e-26,  -9.60552290e-26,  -7.73253847e-26,\n",
      "         -1.43921371e-26,  -4.02876133e-26,   4.94229369e-26,\n",
      "          3.88255182e-26,  -5.05165261e-28,   5.01544020e-26,\n",
      "         -8.82844314e-26,   8.17064377e-27,   2.27748273e-26,\n",
      "          5.73342257e-27,  -3.08508955e-26,   6.40807506e-27,\n",
      "         -3.51735698e-26,   1.41309480e-25,  -1.16776374e-25,\n",
      "         -3.40971660e-26,   8.86912988e-26,  -6.14037249e-26,\n",
      "          2.46124695e-26,  -7.21028050e-26,   1.26453363e-26,\n",
      "          9.31118349e-26,   1.19590104e-26,  -5.22465351e-26,\n",
      "         -4.78899583e-27,  -3.70991022e-26,  -1.16746961e-26,\n",
      "         -2.35480411e-27,   5.59121067e-26,   4.56295945e-27,\n",
      "          1.66147249e-26,  -1.75706872e-26,  -1.44797515e-26,\n",
      "          9.30927667e-26,  -9.97633807e-26,  -5.43844591e-26,\n",
      "         -9.76364637e-26,  -4.74800156e-26,   2.19911926e-28,\n",
      "         -8.77065045e-26,  -7.55396809e-26,   4.59759352e-26,\n",
      "          1.77639920e-26,   1.98078212e-26,   1.98355916e-26,\n",
      "          2.17767010e-26,   7.65429271e-26,   2.88857906e-26,\n",
      "         -5.82006477e-26,   4.48595707e-26,   2.04657297e-26,\n",
      "         -7.56716241e-26,  -4.80213260e-27,  -1.00031068e-26,\n",
      "          4.64556982e-26,   8.09159436e-27,  -3.13398568e-26,\n",
      "          6.28836834e-26,  -2.96538145e-26,  -1.40549529e-26,\n",
      "         -1.57452862e-26,   1.85534970e-26,  -2.98254688e-26,\n",
      "          3.40265845e-26,  -8.18650758e-26,  -4.62938338e-26,\n",
      "          4.71918472e-26,  -7.64452517e-27,  -2.16591661e-27,\n",
      "         -7.09909795e-26,  -1.62347698e-26,   5.66212803e-26,\n",
      "          2.11880890e-26,  -5.40574947e-26,   1.80155917e-27,\n",
      "          8.49146025e-26,   2.01439977e-26,   9.45212751e-27,\n",
      "          1.06525533e-25]], dtype=float32)]\n",
      "decoder1forword: (1, 3, 100)\n",
      "sent (1, 3, 100)\n",
      "logsent (1, 3, 100)\n",
      "[nan]\n"
     ]
    }
   ],
   "source": [
    "\n",
    "with tf.Graph().as_default(): #set default graph\n",
    "    encoder1 = encoder.naive_encoder(layers=1, directions =1, maxv=484, hiddensizes=100, bach_s=1)\n",
    "\n",
    "    decoder1 = decoder.attention_decoder(layers = 1, directions = 1, hiddensize = 100, input_length = 484, \n",
    "                     output_v = de_padding_line, output_length = len(deline.split(' ')), teacher_forcing = False)\n",
    "\n",
    "    #workers, _ = tf.test.create_local_cluster(1, 0) #python 3.6 <\n",
    "    #worker = workers[0] #python 3.6 < \n",
    "\n",
    "\n",
    "    with tf.Session() as sess:\n",
    "            \n",
    "        encoder1.hidden_init(sess)\n",
    "        decoder1.hidden_init(sess)\n",
    "        encoder1.train(sess,padding_line)\n",
    "        \n",
    "        print(np.shape(encoder1.getoutput(sess,padding_line)))\n",
    "        print(np.shape(encoder1.getstate(sess,padding_line)))\n",
    "        \n",
    "        en_out = encoder1.getoutput(sess,padding_line)\n",
    "        en_state = encoder1.getstate(sess,padding_line)\n",
    "        \n",
    "        print(\"decoder1forword:\", np.shape(decoder1.forword(sess,en_out[0][0],en_state[0])))\n",
    "\n",
    "        decoder1.calcost(sess,de_padding_line[0],en_out[0][0],en_state[0])\n",
    "        #decoder1.training(sess,en_out[0][0],en_state[0])\n"
   ]
  },
  {
   "cell_type": "code",
   "execution_count": 20,
   "metadata": {
    "collapsed": false
   },
   "outputs": [],
   "source": [
    "#import portpicker"
   ]
  },
  {
   "cell_type": "code",
   "execution_count": null,
   "metadata": {
    "collapsed": false
   },
   "outputs": [],
   "source": []
  },
  {
   "cell_type": "code",
   "execution_count": null,
   "metadata": {
    "collapsed": true
   },
   "outputs": [],
   "source": []
  }
 ],
 "metadata": {
  "kernelspec": {
   "display_name": "Python 3",
   "language": "python",
   "name": "python3"
  },
  "language_info": {
   "codemirror_mode": {
    "name": "ipython",
    "version": 3
   },
   "file_extension": ".py",
   "mimetype": "text/x-python",
   "name": "python",
   "nbconvert_exporter": "python",
   "pygments_lexer": "ipython3",
   "version": "3.4.5"
  }
 },
 "nbformat": 4,
 "nbformat_minor": 2
}
