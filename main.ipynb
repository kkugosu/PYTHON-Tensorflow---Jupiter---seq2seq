{
 "cells": [
  {
   "cell_type": "code",
   "execution_count": 2,
   "metadata": {
    "collapsed": true
   },
   "outputs": [],
   "source": [
    "import tensorflow as tf"
   ]
  },
  {
   "cell_type": "code",
   "execution_count": 3,
   "metadata": {
    "collapsed": true
   },
   "outputs": [],
   "source": [
    "import numpy as np"
   ]
  },
  {
   "cell_type": "code",
   "execution_count": 4,
   "metadata": {
    "collapsed": true
   },
   "outputs": [],
   "source": [
    "import io,os,sys,types\n",
    "from IPython import get_ipython #for import notebook\n",
    "from nbformat import read #for import notebook\n",
    "from IPython.core.interactiveshell import InteractiveShell #for import notebook"
   ]
  },
  {
   "cell_type": "code",
   "execution_count": 5,
   "metadata": {
    "collapsed": true
   },
   "outputs": [],
   "source": [
    "def find_notebook(fullname, path=None): #for import notebook\n",
    "    \"\"\"find a notebook, given its fully qualified name and an optional path\n",
    "\n",
    "    This turns \"foo.bar\" into \"foo/bar.ipynb\"\n",
    "    and tries turning \"Foo_Bar\" into \"Foo Bar\" if Foo_Bar\n",
    "    does not exist.\n",
    "    \"\"\"\n",
    "    name = fullname.rsplit('.', 1)[-1]\n",
    "    if not path:\n",
    "        path = ['']\n",
    "    for d in path:\n",
    "        nb_path = os.path.join(d, name + \".ipynb\")\n",
    "        if os.path.isfile(nb_path):\n",
    "            return nb_path\n",
    "        # let import Notebook_Name find \"Notebook Name.ipynb\"\n",
    "        nb_path = nb_path.replace(\"_\", \" \")\n",
    "        if os.path.isfile(nb_path):\n",
    "            return nb_path"
   ]
  },
  {
   "cell_type": "code",
   "execution_count": 6,
   "metadata": {
    "collapsed": true
   },
   "outputs": [],
   "source": [
    "class NotebookLoader(object): #for import notebook\n",
    "    \"\"\"Module Loader for Jupyter Notebooks\"\"\"\n",
    "    def __init__(self, path=None):\n",
    "        self.shell = InteractiveShell.instance()\n",
    "        self.path = path\n",
    "\n",
    "    def load_module(self, fullname):\n",
    "        \"\"\"import a notebook as a module\"\"\"\n",
    "        path = find_notebook(fullname, self.path)\n",
    "\n",
    "        print (\"importing Jupyter notebook from %s\" % path)\n",
    "\n",
    "        # load the notebook object\n",
    "        with io.open(path, 'r', encoding='utf-8') as f:\n",
    "            nb = read(f, 4)\n",
    "\n",
    "\n",
    "        # create the module and add it to sys.modules\n",
    "        # if name in sys.modules:\n",
    "        #    return sys.modules[name]\n",
    "        mod = types.ModuleType(fullname)\n",
    "        mod.__file__ = path\n",
    "        mod.__loader__ = self\n",
    "        mod.__dict__['get_ipython'] = get_ipython\n",
    "        sys.modules[fullname] = mod\n",
    "\n",
    "        # extra work to ensure that magics that would affect the user_ns\n",
    "        # actually affect the notebook module's ns\n",
    "        save_user_ns = self.shell.user_ns\n",
    "        self.shell.user_ns = mod.__dict__\n",
    "\n",
    "        try:\n",
    "          for cell in nb.cells:\n",
    "            if cell.cell_type == 'code':\n",
    "                # transform the input to executable Python\n",
    "                code = self.shell.input_transformer_manager.transform_cell(cell.source)\n",
    "                # run the code in themodule\n",
    "                exec(code, mod.__dict__)\n",
    "        finally:\n",
    "            self.shell.user_ns = save_user_ns\n",
    "        return mod\n",
    "class NotebookFinder(object):\n",
    "    \"\"\"Module finder that locates Jupyter Notebooks\"\"\"\n",
    "    def __init__(self):\n",
    "        self.loaders = {}\n",
    "\n",
    "    def find_module(self, fullname, path=None):\n",
    "        nb_path = find_notebook(fullname, path)\n",
    "        if not nb_path:\n",
    "            return\n",
    "\n",
    "        key = path\n",
    "        if path:\n",
    "            # lists aren't hashable\n",
    "            key = os.path.sep.join(path)\n",
    "\n",
    "        if key not in self.loaders:\n",
    "            self.loaders[key] = NotebookLoader(path)\n",
    "        return self.loaders[key]"
   ]
  },
  {
   "cell_type": "code",
   "execution_count": 7,
   "metadata": {
    "collapsed": false
   },
   "outputs": [
    {
     "name": "stdout",
     "output_type": "stream",
     "text": [
      "importing Jupyter notebook from myprepdata.ipynb\n",
      "[('he', 0.9606667160987854),\n",
      " ('She', 0.7691636085510254),\n",
      " ('herself', 0.7592681646347046),\n",
      " ('He', 0.7463222742080688),\n",
      " ('nobody', 0.7147209644317627),\n",
      " ('Picard', 0.6965363025665283),\n",
      " ('himself', 0.6882157921791077),\n",
      " ('him', 0.6789597272872925),\n",
      " ('her', 0.6740684509277344),\n",
      " ('Kirk', 0.667111337184906)]\n",
      "0\n",
      "1\n",
      "4\n",
      "10\n",
      "21\n",
      "23\n",
      "314\n",
      "977\n",
      "2771\n",
      "11984\n",
      "12819\n",
      "112232\n",
      "161069\n",
      "414849\n",
      "529926\n",
      "708644\n",
      "1079277\n",
      "1916152\n",
      "1949607\n",
      "1949617\n",
      "2191402\n",
      "4391595\n"
     ]
    }
   ],
   "source": [
    "sys.meta_path.append(NotebookFinder())\n",
    "import myprepdata"
   ]
  },
  {
   "cell_type": "code",
   "execution_count": 8,
   "metadata": {
    "collapsed": false
   },
   "outputs": [
    {
     "name": "stdout",
     "output_type": "stream",
     "text": [
      "importing Jupyter notebook from encoder.ipynb\n"
     ]
    }
   ],
   "source": [
    "import encoder"
   ]
  },
  {
   "cell_type": "code",
   "execution_count": 9,
   "metadata": {
    "collapsed": false
   },
   "outputs": [
    {
     "name": "stdout",
     "output_type": "stream",
     "text": [
      "importing Jupyter notebook from decoder.ipynb\n"
     ]
    },
    {
     "ename": "NameError",
     "evalue": "name 'inputv' is not defined",
     "output_type": "error",
     "traceback": [
      "\u001b[0;31m---------------------------------------------------------------------------\u001b[0m",
      "\u001b[0;31mNameError\u001b[0m                                 Traceback (most recent call last)",
      "\u001b[0;32m<ipython-input-9-5090e9717280>\u001b[0m in \u001b[0;36m<module>\u001b[0;34m()\u001b[0m\n\u001b[0;32m----> 1\u001b[0;31m \u001b[0;32mimport\u001b[0m \u001b[0mdecoder\u001b[0m\u001b[0;34m\u001b[0m\u001b[0m\n\u001b[0m",
      "\u001b[0;32m/home/jongsu/.pyenv/versions/anaconda3-4.2.0/envs/tensorflow/lib/python3.4/importlib/_bootstrap.py\u001b[0m in \u001b[0;36m_find_and_load\u001b[0;34m(name, import_)\u001b[0m\n",
      "\u001b[0;32m/home/jongsu/.pyenv/versions/anaconda3-4.2.0/envs/tensorflow/lib/python3.4/importlib/_bootstrap.py\u001b[0m in \u001b[0;36m_find_and_load_unlocked\u001b[0;34m(name, import_)\u001b[0m\n",
      "\u001b[0;32m/home/jongsu/.pyenv/versions/anaconda3-4.2.0/envs/tensorflow/lib/python3.4/importlib/_bootstrap.py\u001b[0m in \u001b[0;36m_load_unlocked\u001b[0;34m(self)\u001b[0m\n",
      "\u001b[0;32m/home/jongsu/.pyenv/versions/anaconda3-4.2.0/envs/tensorflow/lib/python3.4/importlib/_bootstrap.py\u001b[0m in \u001b[0;36m_load_backward_compatible\u001b[0;34m(self)\u001b[0m\n",
      "\u001b[0;32m<ipython-input-6-e17ee60f8a6d>\u001b[0m in \u001b[0;36mload_module\u001b[0;34m(self, fullname)\u001b[0m\n\u001b[1;32m     36\u001b[0m                 \u001b[0mcode\u001b[0m \u001b[0;34m=\u001b[0m \u001b[0mself\u001b[0m\u001b[0;34m.\u001b[0m\u001b[0mshell\u001b[0m\u001b[0;34m.\u001b[0m\u001b[0minput_transformer_manager\u001b[0m\u001b[0;34m.\u001b[0m\u001b[0mtransform_cell\u001b[0m\u001b[0;34m(\u001b[0m\u001b[0mcell\u001b[0m\u001b[0;34m.\u001b[0m\u001b[0msource\u001b[0m\u001b[0;34m)\u001b[0m\u001b[0;34m\u001b[0m\u001b[0m\n\u001b[1;32m     37\u001b[0m                 \u001b[0;31m# run the code in themodule\u001b[0m\u001b[0;34m\u001b[0m\u001b[0;34m\u001b[0m\u001b[0m\n\u001b[0;32m---> 38\u001b[0;31m                 \u001b[0mexec\u001b[0m\u001b[0;34m(\u001b[0m\u001b[0mcode\u001b[0m\u001b[0;34m,\u001b[0m \u001b[0mmod\u001b[0m\u001b[0;34m.\u001b[0m\u001b[0m__dict__\u001b[0m\u001b[0;34m)\u001b[0m\u001b[0;34m\u001b[0m\u001b[0m\n\u001b[0m\u001b[1;32m     39\u001b[0m         \u001b[0;32mfinally\u001b[0m\u001b[0;34m:\u001b[0m\u001b[0;34m\u001b[0m\u001b[0m\n\u001b[1;32m     40\u001b[0m             \u001b[0mself\u001b[0m\u001b[0;34m.\u001b[0m\u001b[0mshell\u001b[0m\u001b[0;34m.\u001b[0m\u001b[0muser_ns\u001b[0m \u001b[0;34m=\u001b[0m \u001b[0msave_user_ns\u001b[0m\u001b[0;34m\u001b[0m\u001b[0m\n",
      "\u001b[0;32m/home/jongsu/Desktop/myp35/decoder.ipynb\u001b[0m in \u001b[0;36m<module>\u001b[0;34m()\u001b[0m\n",
      "\u001b[0;32m/home/jongsu/Desktop/myp35/decoder.ipynb\u001b[0m in \u001b[0;36mdecoder_para\u001b[0;34m()\u001b[0m\n",
      "\u001b[0;31mNameError\u001b[0m: name 'inputv' is not defined"
     ]
    }
   ],
   "source": [
    "import decoder"
   ]
  },
  {
   "cell_type": "code",
   "execution_count": 7,
   "metadata": {
    "collapsed": false
   },
   "outputs": [
    {
     "data": {
      "text/plain": [
       "'Res@@ um@@ ption of the session'"
      ]
     },
     "execution_count": 7,
     "metadata": {},
     "output_type": "execute_result"
    }
   ],
   "source": [
    "myprepdata.prepdata()[0]"
   ]
  },
  {
   "cell_type": "code",
   "execution_count": 10,
   "metadata": {
    "collapsed": false
   },
   "outputs": [
    {
     "data": {
      "text/plain": [
       "array([ 1.06812108, -0.24446909,  0.46793249,  0.82105935, -2.1507535 ,\n",
       "       -1.86775625, -2.04432702, -0.31524628, -0.76562214,  1.13276744,\n",
       "        0.35252526, -0.93667805, -3.34098458, -0.59771782,  2.94713116,\n",
       "        3.5336988 ,  0.10698997, -0.66562158, -1.62799621, -2.11766458,\n",
       "        5.16020536, -1.59126639, -0.82328874,  2.68404579, -0.28857097,\n",
       "       -0.56096238, -0.50837117,  1.1692965 , -1.00502729,  2.60701394,\n",
       "       -2.01566863,  1.01949632, -0.55879539, -0.75727445, -0.20902161,\n",
       "       -0.94080567,  1.30728281,  2.31278086,  0.0380202 , -0.49820423,\n",
       "        3.60980153, -2.93853402, -2.11886024,  1.42573583,  2.49997544,\n",
       "       -0.05229637, -1.25446272, -0.6181193 , -2.16629624,  0.21290185,\n",
       "        0.02838982, -3.62336445, -0.78847635, -2.30597925,  0.43443862,\n",
       "       -1.29242015,  0.44316572,  1.52157617,  0.90246326,  1.50775814,\n",
       "        0.06722964,  0.4648923 ,  2.07283092, -2.40967822,  1.68641734,\n",
       "       -1.55156183,  1.00972116,  2.47599268,  0.31104964,  2.86039162,\n",
       "       -0.83476681,  1.90289199,  1.90915895, -1.19002712,  0.84430456,\n",
       "        1.38428783, -0.61821818, -0.84505701, -1.19612706,  0.75737673,\n",
       "       -2.16531801,  0.71016294,  1.52740979,  0.43085429,  0.82615179,\n",
       "       -4.18092537,  1.57476056, -0.64930248,  1.69012761, -0.09484554,\n",
       "       -2.1869607 ,  0.91539103, -2.80066276,  0.41193941,  0.07276145,\n",
       "        1.90204382,  0.53793705, -0.90580022, -2.29272723, -0.48279387], dtype=float32)"
      ]
     },
     "execution_count": 10,
     "metadata": {},
     "output_type": "execute_result"
    }
   ],
   "source": [
    "myprepdata.wvmodel().wv[\"of\"]"
   ]
  },
  {
   "cell_type": "code",
   "execution_count": null,
   "metadata": {
    "collapsed": true
   },
   "outputs": [],
   "source": [
    "encoder1 = encoder.naive_encoder(...)\n",
    "decoder1 = decoder.attention_decoder(...)\n",
    "\n",
    "with tf.Graph().as_default(): #set default graph\n",
    "      with tf.Session() as sess:\n",
    "            \n",
    "        while(bach):\n",
    "            encoder1.train(sess)\n",
    "            decoder1.getenout(encoder1.getoutput())\n",
    "            decoder1.train(sess)\n",
    "        \n",
    "        "
   ]
  }
 ],
 "metadata": {
  "kernelspec": {
   "display_name": "Python 3",
   "language": "python",
   "name": "python3"
  },
  "language_info": {
   "codemirror_mode": {
    "name": "ipython",
    "version": 3
   },
   "file_extension": ".py",
   "mimetype": "text/x-python",
   "name": "python",
   "nbconvert_exporter": "python",
   "pygments_lexer": "ipython3",
   "version": "3.4.5"
  }
 },
 "nbformat": 4,
 "nbformat_minor": 2
}
