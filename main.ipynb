{
 "cells": [
  {
   "cell_type": "code",
   "execution_count": 1,
   "metadata": {
    "collapsed": true
   },
   "outputs": [],
   "source": [
    "import tensorflow as tf"
   ]
  },
  {
   "cell_type": "code",
   "execution_count": 2,
   "metadata": {
    "collapsed": true
   },
   "outputs": [],
   "source": [
    "import numpy as np\n",
    "from __future__ import absolute_import\n",
    "from __future__ import division\n",
    "from __future__ import print_function"
   ]
  },
  {
   "cell_type": "code",
   "execution_count": 3,
   "metadata": {
    "collapsed": true
   },
   "outputs": [],
   "source": [
    "import io,os,sys,types\n",
    "from IPython import get_ipython #for import notebook\n",
    "from nbformat import read #for import notebook\n",
    "from IPython.core.interactiveshell import InteractiveShell #for import notebook"
   ]
  },
  {
   "cell_type": "code",
   "execution_count": 4,
   "metadata": {
    "collapsed": true
   },
   "outputs": [],
   "source": [
    "def find_notebook(fullname, path=None): #for import notebook\n",
    "    \"\"\"find a notebook, given its fully qualified name and an optional path\n",
    "\n",
    "    This turns \"foo.bar\" into \"foo/bar.ipynb\"\n",
    "    and tries turning \"Foo_Bar\" into \"Foo Bar\" if Foo_Bar\n",
    "    does not exist.\n",
    "    \"\"\"\n",
    "    name = fullname.rsplit('.', 1)[-1]\n",
    "    if not path:\n",
    "        path = ['']\n",
    "    for d in path:\n",
    "        nb_path = os.path.join(d, name + \".ipynb\")\n",
    "        if os.path.isfile(nb_path):\n",
    "            return nb_path\n",
    "        # let import Notebook_Name find \"Notebook Name.ipynb\"\n",
    "        nb_path = nb_path.replace(\"_\", \" \")\n",
    "        if os.path.isfile(nb_path):\n",
    "            return nb_path"
   ]
  },
  {
   "cell_type": "code",
   "execution_count": 5,
   "metadata": {
    "collapsed": true
   },
   "outputs": [],
   "source": [
    "class NotebookLoader(object): #for import notebook\n",
    "    \"\"\"Module Loader for Jupyter Notebooks\"\"\"\n",
    "    def __init__(self, path=None):\n",
    "        self.shell = InteractiveShell.instance()\n",
    "        self.path = path\n",
    "\n",
    "    def load_module(self, fullname):\n",
    "        \"\"\"import a notebook as a module\"\"\"\n",
    "        path = find_notebook(fullname, self.path)\n",
    "\n",
    "        print (\"importing Jupyter notebook from %s\" % path)\n",
    "\n",
    "        # load the notebook object\n",
    "        with io.open(path, 'r', encoding='utf-8') as f:\n",
    "            nb = read(f, 4)\n",
    "\n",
    "\n",
    "        # create the module and add it to sys.modules\n",
    "        # if name in sys.modules:\n",
    "        #    return sys.modules[name]\n",
    "        mod = types.ModuleType(fullname)\n",
    "        mod.__file__ = path\n",
    "        mod.__loader__ = self\n",
    "        mod.__dict__['get_ipython'] = get_ipython\n",
    "        sys.modules[fullname] = mod\n",
    "\n",
    "        # extra work to ensure that magics that would affect the user_ns\n",
    "        # actually affect the notebook module's ns\n",
    "        save_user_ns = self.shell.user_ns\n",
    "        self.shell.user_ns = mod.__dict__\n",
    "\n",
    "        try:\n",
    "          for cell in nb.cells:\n",
    "            if cell.cell_type == 'code':\n",
    "                # transform the input to executable Python\n",
    "                code = self.shell.input_transformer_manager.transform_cell(cell.source)\n",
    "                # run the code in themodule\n",
    "                exec(code, mod.__dict__)\n",
    "        finally:\n",
    "            self.shell.user_ns = save_user_ns\n",
    "        return mod\n",
    "class NotebookFinder(object):\n",
    "    \"\"\"Module finder that locates Jupyter Notebooks\"\"\"\n",
    "    def __init__(self):\n",
    "        self.loaders = {}\n",
    "\n",
    "    def find_module(self, fullname, path=None):\n",
    "        nb_path = find_notebook(fullname, path)\n",
    "        if not nb_path:\n",
    "            return\n",
    "\n",
    "        key = path\n",
    "        if path:\n",
    "            # lists aren't hashable\n",
    "            key = os.path.sep.join(path)\n",
    "\n",
    "        if key not in self.loaders:\n",
    "            self.loaders[key] = NotebookLoader(path)\n",
    "        return self.loaders[key]"
   ]
  },
  {
   "cell_type": "code",
   "execution_count": 6,
   "metadata": {
    "collapsed": false
   },
   "outputs": [],
   "source": [
    "sys.meta_path.append(NotebookFinder())"
   ]
  },
  {
   "cell_type": "code",
   "execution_count": 7,
   "metadata": {
    "collapsed": false
   },
   "outputs": [
    {
     "name": "stdout",
     "output_type": "stream",
     "text": [
      "importing Jupyter notebook from myprepdata.ipynb\n"
     ]
    }
   ],
   "source": [
    "import myprepdata"
   ]
  },
  {
   "cell_type": "code",
   "execution_count": 8,
   "metadata": {
    "collapsed": false
   },
   "outputs": [
    {
     "name": "stdout",
     "output_type": "stream",
     "text": [
      "importing Jupyter notebook from encoder.ipynb\n"
     ]
    }
   ],
   "source": [
    "import encoder"
   ]
  },
  {
   "cell_type": "code",
   "execution_count": 9,
   "metadata": {
    "collapsed": false
   },
   "outputs": [
    {
     "name": "stdout",
     "output_type": "stream",
     "text": [
      "importing Jupyter notebook from decoder.ipynb\n"
     ]
    }
   ],
   "source": [
    "import decoder"
   ]
  },
  {
   "cell_type": "code",
   "execution_count": 10,
   "metadata": {
    "collapsed": false
   },
   "outputs": [
    {
     "name": "stdout",
     "output_type": "stream",
     "text": [
      "[  8.89466166e-01   2.06377721e+00   6.17529333e-01   3.18206835e+00\n",
      "   7.67453134e-01  -1.99592626e+00  -1.48355320e-01  -1.96766481e-01\n",
      "  -3.16980266e-04   2.14467272e-01  -4.14004624e-01   3.57001126e-01\n",
      "  -1.75457168e+00  -1.39167953e+00   2.63751793e+00   1.19258475e+00\n",
      "   6.61663294e-01  -3.63710284e-01   1.10500908e+00  -1.90649366e+00\n",
      "  -1.27631116e+00   7.06363976e-01   2.16604018e+00   7.20149457e-01\n",
      "   1.19366109e+00   3.15650672e-01  -3.05436397e+00   7.40569711e-01\n",
      "   8.19141865e-01   1.18011284e+00   4.69861925e-01   8.27771947e-02\n",
      "   1.12338221e+00   2.47764182e+00   3.43266904e-01  -2.68325806e+00\n",
      "  -1.40979004e+00  -1.32848775e+00   7.03199029e-01   9.64148343e-02\n",
      "   3.22712660e-01  -2.13381246e-01  -1.01692128e+00   1.25775146e+00\n",
      "   1.02071427e-01  -1.11394691e+00  -2.41053867e+00  -1.19636559e+00\n",
      "   4.32757884e-01   1.38155115e+00   1.13593802e-01  -1.06976998e+00\n",
      "   1.57687080e+00   1.43941748e+00   2.68036485e-01   1.28006709e+00\n",
      "   1.21146309e+00   6.14654839e-01   2.15204167e+00   1.22273111e+00\n",
      "   1.90594003e-01   2.39681888e+00   1.16187465e+00  -1.55696607e+00\n",
      "  -7.31308460e-01   1.52452505e+00   9.97587621e-01   3.14125925e-01\n",
      "   1.44812167e+00  -1.64439595e+00  -1.27866435e+00  -8.83129060e-01\n",
      "   8.16591024e-01   1.95926383e-01  -1.66098487e+00   8.79419565e-01\n",
      "  -5.52360296e-01   9.31477249e-01  -1.61542225e+00  -2.95410728e+00\n",
      "   8.43243837e-01   5.40459573e-01  -8.84331405e-01  -1.23990583e+00\n",
      "  -2.10240602e+00  -5.83475113e-01   1.54290402e+00   5.65786250e-02\n",
      "   8.37796569e-01   1.36398625e+00   1.77913010e-01  -1.51402771e+00\n",
      "  -1.28882706e+00  -2.48839760e+00   3.25758278e-01  -5.80109358e-01\n",
      "   2.52578783e+00   4.08504963e+00  -1.20362306e+00  -8.87646019e-01]\n"
     ]
    }
   ],
   "source": [
    "dataset_loader = myprepdata.prep()"
   ]
  },
  {
   "cell_type": "code",
   "execution_count": 11,
   "metadata": {
    "collapsed": false
   },
   "outputs": [
    {
     "data": {
      "text/plain": [
       "'Res@@ um@@ ption of the session'"
      ]
     },
     "execution_count": 11,
     "metadata": {},
     "output_type": "execute_result"
    }
   ],
   "source": [
    "newline = dataset_loader.prepare_line()[0]\n",
    "newline"
   ]
  },
  {
   "cell_type": "code",
   "execution_count": 12,
   "metadata": {
    "collapsed": false
   },
   "outputs": [
    {
     "data": {
      "text/plain": [
       "'Wiederaufnahme der Sitzungsperiode'"
      ]
     },
     "execution_count": 12,
     "metadata": {},
     "output_type": "execute_result"
    }
   ],
   "source": [
    "deline = dataset_loader.de_prepare_line()[0]\n",
    "deline"
   ]
  },
  {
   "cell_type": "code",
   "execution_count": 13,
   "metadata": {
    "collapsed": false
   },
   "outputs": [
    {
     "data": {
      "text/plain": [
       "array([-0.67258787, -4.15615225, -1.72683489,  1.6745466 , -0.66765279,\n",
       "        1.20479822, -0.54290372, -0.17763264, -6.63635206, -3.36331749,\n",
       "       -1.20754302, -4.75114679,  3.3733356 , -2.00328326,  1.61597621,\n",
       "       -2.5903039 ,  3.89082551,  2.05730581, -0.37433237, -1.15445471,\n",
       "        0.9606185 ,  4.23989391,  1.05038905, -1.0970273 , -3.27382827,\n",
       "        1.57637691, -4.19764471, -2.15746975,  2.48696518, -0.61238277,\n",
       "       -1.74696052, -0.37781578,  0.34524947,  2.54945087, -1.64452887,\n",
       "        0.57680875, -0.14833695,  1.02612078, -0.26212877, -0.51345897,\n",
       "       -1.39085841,  0.09278773, -1.48713863, -0.46643406,  7.02497864,\n",
       "        2.74286199, -0.83628732, -1.48309898, -0.32239187, -3.01059842,\n",
       "        1.07048142, -3.00496078,  0.34531841,  3.417485  ,  2.11597872,\n",
       "        0.14785768,  0.43224403,  0.61093956, -2.73394179, -1.91496217,\n",
       "       -2.31602764,  2.11022353,  3.03709865,  0.61163723,  0.87978035,\n",
       "       -1.34368658, -4.88440132, -1.7299546 , -0.21339908, -1.17470872,\n",
       "       -2.59537339,  1.38333321,  0.88531542,  0.43189961,  1.67749929,\n",
       "       -1.24953771,  1.51133716, -1.71328628,  2.10449433,  0.8787359 ,\n",
       "        4.48812008, -0.84192741,  3.90984416,  0.00753402,  2.64509892,\n",
       "        2.40421772,  1.52942765, -1.00621092, -0.50308841,  0.01391463,\n",
       "       -0.20117365,  1.02307236,  4.01931715, -0.79575706,  0.7374779 ,\n",
       "        1.36256838, -1.06702769, -0.8350783 ,  0.61838496,  1.31033885], dtype=float32)"
      ]
     },
     "execution_count": 13,
     "metadata": {},
     "output_type": "execute_result"
    }
   ],
   "source": [
    "#dataset_loader.get_wvmodel().wv[\"Res@@\"] #good"
   ]
  },
  {
   "cell_type": "code",
   "execution_count": 14,
   "metadata": {
    "collapsed": false
   },
   "outputs": [
    {
     "data": {
      "text/plain": [
       "6"
      ]
     },
     "execution_count": 14,
     "metadata": {},
     "output_type": "execute_result"
    }
   ],
   "source": [
    "#len(newline.split(' ')) #6"
   ]
  },
  {
   "cell_type": "code",
   "execution_count": 15,
   "metadata": {
    "collapsed": false
   },
   "outputs": [
    {
     "data": {
      "text/plain": [
       "'Res@@'"
      ]
     },
     "execution_count": 15,
     "metadata": {},
     "output_type": "execute_result"
    }
   ],
   "source": [
    "#newline.split(' ')[0] #'Res@@'"
   ]
  },
  {
   "cell_type": "code",
   "execution_count": 16,
   "metadata": {
    "collapsed": false
   },
   "outputs": [],
   "source": [
    "\n",
    "\n"
   ]
  },
  {
   "cell_type": "code",
   "execution_count": 21,
   "metadata": {
    "collapsed": false
   },
   "outputs": [
    {
     "name": "stdout",
     "output_type": "stream",
     "text": [
      "(1, 1, 484, 100)\n",
      "(1, 1, 100)\n",
      "[3.1680763]\n",
      "[None]\n",
      "[3.0638139]\n",
      "[None]\n",
      "[2.3141923]\n",
      "[None]\n",
      "[2.1588542]\n",
      "[None]\n",
      "[2.0503488]\n",
      "[None]\n",
      "[1.9389188]\n",
      "[None]\n",
      "[1.9313902]\n"
     ]
    }
   ],
   "source": [
    "\n",
    "with tf.Graph().as_default(): #set default graph\n",
    "    \n",
    "    line = 0\n",
    "    \n",
    "    while(line < 450096):\n",
    "        newline = dataset_loader.prepare_line()[line]\n",
    "        padding_line = np.full((1, 484, 100), 0, dtype=\"float32\")\n",
    "        i = 0\n",
    "        while(i < len(newline.split(' '))):\n",
    "            padding_line[0][i] = dataset_loader.get_wvmodel().wv[newline.split(' ')[i]]\n",
    "            i = i + 1\n",
    "        i = 0\n",
    "\n",
    "        deline = dataset_loader.de_prepare_line()[line]\n",
    "        de_padding_line = np.full((1, len(deline.split(' ')), 100), 0, dtype=\"float32\")\n",
    "        while(i < len(deline.split(' '))):\n",
    "            de_padding_line[0][i] = dataset_loader.de_get_wvmodel().wv[deline.split(' ')[i]]\n",
    "            i = i + 1\n",
    "        i = 0\n",
    "\n",
    "        line = line + 1\n",
    "    \n",
    "    \n",
    "    encoder1 = encoder.naive_encoder(layers=1, directions =1, maxv=484, hiddensizes=100, bach_s=1)\n",
    "\n",
    "    decoder1 = decoder.attention_decoder(layers = 1, directions = 1, hiddensize = 100, input_length = 484, \n",
    "                      output_length = len(deline.split(' ')), teacher_forcing = False) ## how length.....\n",
    "\n",
    "    #workers, _ = tf.test.create_local_cluster(1, 0) #python 3.6 <\n",
    "    #worker = workers[0] #python 3.6 < \n",
    "\n",
    "\n",
    "    with tf.Session() as sess:\n",
    "            \n",
    "        encoder1.hidden_init(sess)\n",
    "        decoder1.hidden_init(sess)\n",
    "        encoder1.train(sess,padding_line)\n",
    "        \n",
    "        print(np.shape(encoder1.getoutput(sess,padding_line)))\n",
    "        print(np.shape(encoder1.getstate(sess,padding_line)))\n",
    "        \n",
    "        en_out = encoder1.getoutput(sess,padding_line)\n",
    "        en_state = encoder1.getstate(sess,padding_line)\n",
    "    \n",
    "    \n",
    "        decoder1.calcost(sess,de_padding_line[0],en_out[0][0],en_state[0])\n",
    "        decoder1.training(sess,de_padding_line[0],en_out[0][0],en_state[0])\n",
    "        decoder1.calcost(sess,de_padding_line[0],en_out[0][0],en_state[0])\n",
    "        decoder1.training(sess,de_padding_line[0],en_out[0][0],en_state[0])\n",
    "        decoder1.calcost(sess,de_padding_line[0],en_out[0][0],en_state[0])\n",
    "        decoder1.training(sess,de_padding_line[0],en_out[0][0],en_state[0])\n",
    "        decoder1.calcost(sess,de_padding_line[0],en_out[0][0],en_state[0])\n",
    "        decoder1.training(sess,de_padding_line[0],en_out[0][0],en_state[0])\n",
    "        decoder1.calcost(sess,de_padding_line[0],en_out[0][0],en_state[0])\n",
    "        decoder1.training(sess,de_padding_line[0],en_out[0][0],en_state[0])\n",
    "        decoder1.calcost(sess,de_padding_line[0],en_out[0][0],en_state[0])\n",
    "        decoder1.training(sess,de_padding_line[0],en_out[0][0],en_state[0])\n",
    "        decoder1.calcost(sess,de_padding_line[0],en_out[0][0],en_state[0])\n",
    "        "
   ]
  },
  {
   "cell_type": "code",
   "execution_count": 20,
   "metadata": {
    "collapsed": false
   },
   "outputs": [],
   "source": [
    "#import portpicker"
   ]
  },
  {
   "cell_type": "code",
   "execution_count": null,
   "metadata": {
    "collapsed": false
   },
   "outputs": [],
   "source": []
  },
  {
   "cell_type": "code",
   "execution_count": null,
   "metadata": {
    "collapsed": true
   },
   "outputs": [],
   "source": []
  }
 ],
 "metadata": {
  "kernelspec": {
   "display_name": "Python 3",
   "language": "python",
   "name": "python3"
  },
  "language_info": {
   "codemirror_mode": {
    "name": "ipython",
    "version": 3
   },
   "file_extension": ".py",
   "mimetype": "text/x-python",
   "name": "python",
   "nbconvert_exporter": "python",
   "pygments_lexer": "ipython3",
   "version": "3.4.5"
  }
 },
 "nbformat": 4,
 "nbformat_minor": 2
}
