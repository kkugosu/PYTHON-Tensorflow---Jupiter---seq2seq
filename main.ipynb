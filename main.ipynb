{
 "cells": [
  {
   "cell_type": "code",
   "execution_count": null,
   "metadata": {
    "collapsed": true
   },
   "outputs": [],
   "source": []
  },
  {
   "cell_type": "code",
   "execution_count": 1,
   "metadata": {
    "collapsed": true
   },
   "outputs": [],
   "source": [
    "import tensorflow as tf"
   ]
  },
  {
   "cell_type": "code",
   "execution_count": 2,
   "metadata": {
    "collapsed": true
   },
   "outputs": [],
   "source": [
    "import numpy as np\n",
    "from __future__ import absolute_import\n",
    "from __future__ import division\n",
    "from __future__ import print_function"
   ]
  },
  {
   "cell_type": "code",
   "execution_count": 3,
   "metadata": {
    "collapsed": true
   },
   "outputs": [],
   "source": [
    "import io,os,sys,types\n",
    "from IPython import get_ipython #for import notebook\n",
    "from nbformat import read #for import notebook\n",
    "from IPython.core.interactiveshell import InteractiveShell #for import notebook"
   ]
  },
  {
   "cell_type": "code",
   "execution_count": 4,
   "metadata": {
    "collapsed": true
   },
   "outputs": [],
   "source": [
    "def find_notebook(fullname, path=None): #for import notebook\n",
    "    \"\"\"find a notebook, given its fully qualified name and an optional path\n",
    "\n",
    "    This turns \"foo.bar\" into \"foo/bar.ipynb\"\n",
    "    and tries turning \"Foo_Bar\" into \"Foo Bar\" if Foo_Bar\n",
    "    does not exist.\n",
    "    \"\"\"\n",
    "    name = fullname.rsplit('.', 1)[-1]\n",
    "    if not path:\n",
    "        path = ['']\n",
    "    for d in path:\n",
    "        nb_path = os.path.join(d, name + \".ipynb\")\n",
    "        if os.path.isfile(nb_path):\n",
    "            return nb_path\n",
    "        # let import Notebook_Name find \"Notebook Name.ipynb\"\n",
    "        nb_path = nb_path.replace(\"_\", \" \")\n",
    "        if os.path.isfile(nb_path):\n",
    "            return nb_path"
   ]
  },
  {
   "cell_type": "code",
   "execution_count": 5,
   "metadata": {
    "collapsed": true
   },
   "outputs": [],
   "source": [
    "class NotebookLoader(object): #for import notebook\n",
    "    \"\"\"Module Loader for Jupyter Notebooks\"\"\"\n",
    "    def __init__(self, path=None):\n",
    "        self.shell = InteractiveShell.instance()\n",
    "        self.path = path\n",
    "\n",
    "    def load_module(self, fullname):\n",
    "        \"\"\"import a notebook as a module\"\"\"\n",
    "        path = find_notebook(fullname, self.path)\n",
    "\n",
    "        print (\"importing Jupyter notebook from %s\" % path)\n",
    "\n",
    "        # load the notebook object\n",
    "        with io.open(path, 'r', encoding='utf-8') as f:\n",
    "            nb = read(f, 4)\n",
    "\n",
    "\n",
    "        # create the module and add it to sys.modules\n",
    "        # if name in sys.modules:\n",
    "        #    return sys.modules[name]\n",
    "        mod = types.ModuleType(fullname)\n",
    "        mod.__file__ = path\n",
    "        mod.__loader__ = self\n",
    "        mod.__dict__['get_ipython'] = get_ipython\n",
    "        sys.modules[fullname] = mod\n",
    "\n",
    "        # extra work to ensure that magics that would affect the user_ns\n",
    "        # actually affect the notebook module's ns\n",
    "        save_user_ns = self.shell.user_ns\n",
    "        self.shell.user_ns = mod.__dict__\n",
    "\n",
    "        try:\n",
    "          for cell in nb.cells:\n",
    "            if cell.cell_type == 'code':\n",
    "                # transform the input to executable Python\n",
    "                code = self.shell.input_transformer_manager.transform_cell(cell.source)\n",
    "                # run the code in themodule\n",
    "                exec(code, mod.__dict__)\n",
    "        finally:\n",
    "            self.shell.user_ns = save_user_ns\n",
    "        return mod\n",
    "class NotebookFinder(object):\n",
    "    \"\"\"Module finder that locates Jupyter Notebooks\"\"\"\n",
    "    def __init__(self):\n",
    "        self.loaders = {}\n",
    "\n",
    "    def find_module(self, fullname, path=None):\n",
    "        nb_path = find_notebook(fullname, path)\n",
    "        if not nb_path:\n",
    "            return\n",
    "\n",
    "        key = path\n",
    "        if path:\n",
    "            # lists aren't hashable\n",
    "            key = os.path.sep.join(path)\n",
    "\n",
    "        if key not in self.loaders:\n",
    "            self.loaders[key] = NotebookLoader(path)\n",
    "        return self.loaders[key]"
   ]
  },
  {
   "cell_type": "code",
   "execution_count": 6,
   "metadata": {
    "collapsed": false
   },
   "outputs": [],
   "source": [
    "sys.meta_path.append(NotebookFinder())"
   ]
  },
  {
   "cell_type": "code",
   "execution_count": 7,
   "metadata": {
    "collapsed": false
   },
   "outputs": [
    {
     "name": "stdout",
     "output_type": "stream",
     "text": [
      "importing Jupyter notebook from myprepdata.ipynb\n"
     ]
    }
   ],
   "source": [
    "import myprepdata"
   ]
  },
  {
   "cell_type": "code",
   "execution_count": 8,
   "metadata": {
    "collapsed": false
   },
   "outputs": [
    {
     "name": "stdout",
     "output_type": "stream",
     "text": [
      "importing Jupyter notebook from encoder.ipynb\n"
     ]
    }
   ],
   "source": [
    "import encoder"
   ]
  },
  {
   "cell_type": "code",
   "execution_count": 9,
   "metadata": {
    "collapsed": false
   },
   "outputs": [
    {
     "name": "stdout",
     "output_type": "stream",
     "text": [
      "importing Jupyter notebook from decoder.ipynb\n"
     ]
    }
   ],
   "source": [
    "import decoder"
   ]
  },
  {
   "cell_type": "code",
   "execution_count": 10,
   "metadata": {
    "collapsed": false
   },
   "outputs": [
    {
     "name": "stdout",
     "output_type": "stream",
     "text": [
      "[  8.89466166e-01   2.06377721e+00   6.17529333e-01   3.18206835e+00\n",
      "   7.67453134e-01  -1.99592626e+00  -1.48355320e-01  -1.96766481e-01\n",
      "  -3.16980266e-04   2.14467272e-01  -4.14004624e-01   3.57001126e-01\n",
      "  -1.75457168e+00  -1.39167953e+00   2.63751793e+00   1.19258475e+00\n",
      "   6.61663294e-01  -3.63710284e-01   1.10500908e+00  -1.90649366e+00\n",
      "  -1.27631116e+00   7.06363976e-01   2.16604018e+00   7.20149457e-01\n",
      "   1.19366109e+00   3.15650672e-01  -3.05436397e+00   7.40569711e-01\n",
      "   8.19141865e-01   1.18011284e+00   4.69861925e-01   8.27771947e-02\n",
      "   1.12338221e+00   2.47764182e+00   3.43266904e-01  -2.68325806e+00\n",
      "  -1.40979004e+00  -1.32848775e+00   7.03199029e-01   9.64148343e-02\n",
      "   3.22712660e-01  -2.13381246e-01  -1.01692128e+00   1.25775146e+00\n",
      "   1.02071427e-01  -1.11394691e+00  -2.41053867e+00  -1.19636559e+00\n",
      "   4.32757884e-01   1.38155115e+00   1.13593802e-01  -1.06976998e+00\n",
      "   1.57687080e+00   1.43941748e+00   2.68036485e-01   1.28006709e+00\n",
      "   1.21146309e+00   6.14654839e-01   2.15204167e+00   1.22273111e+00\n",
      "   1.90594003e-01   2.39681888e+00   1.16187465e+00  -1.55696607e+00\n",
      "  -7.31308460e-01   1.52452505e+00   9.97587621e-01   3.14125925e-01\n",
      "   1.44812167e+00  -1.64439595e+00  -1.27866435e+00  -8.83129060e-01\n",
      "   8.16591024e-01   1.95926383e-01  -1.66098487e+00   8.79419565e-01\n",
      "  -5.52360296e-01   9.31477249e-01  -1.61542225e+00  -2.95410728e+00\n",
      "   8.43243837e-01   5.40459573e-01  -8.84331405e-01  -1.23990583e+00\n",
      "  -2.10240602e+00  -5.83475113e-01   1.54290402e+00   5.65786250e-02\n",
      "   8.37796569e-01   1.36398625e+00   1.77913010e-01  -1.51402771e+00\n",
      "  -1.28882706e+00  -2.48839760e+00   3.25758278e-01  -5.80109358e-01\n",
      "   2.52578783e+00   4.08504963e+00  -1.20362306e+00  -8.87646019e-01]\n"
     ]
    }
   ],
   "source": [
    "dataset_loader = myprepdata.prep()"
   ]
  },
  {
   "cell_type": "code",
   "execution_count": 11,
   "metadata": {
    "collapsed": false
   },
   "outputs": [
    {
     "data": {
      "text/plain": [
       "'Res@@ um@@ ption of the session'"
      ]
     },
     "execution_count": 11,
     "metadata": {},
     "output_type": "execute_result"
    }
   ],
   "source": [
    "newline = dataset_loader.prepare_line()[0]\n",
    "newline"
   ]
  },
  {
   "cell_type": "code",
   "execution_count": 12,
   "metadata": {
    "collapsed": false
   },
   "outputs": [
    {
     "data": {
      "text/plain": [
       "'Wiederaufnahme der Sitzungsperiode'"
      ]
     },
     "execution_count": 12,
     "metadata": {},
     "output_type": "execute_result"
    }
   ],
   "source": [
    "deline = dataset_loader.de_prepare_line()[0]\n",
    "deline"
   ]
  },
  {
   "cell_type": "code",
   "execution_count": 13,
   "metadata": {
    "collapsed": false
   },
   "outputs": [],
   "source": [
    "#dataset_loader.get_wvmodel().wv[\"Res@@\"] #good"
   ]
  },
  {
   "cell_type": "code",
   "execution_count": 14,
   "metadata": {
    "collapsed": false
   },
   "outputs": [],
   "source": [
    "#len(newline.split(' ')) #6"
   ]
  },
  {
   "cell_type": "code",
   "execution_count": 15,
   "metadata": {
    "collapsed": false
   },
   "outputs": [],
   "source": [
    "#newline.split(' ')[0] #'Res@@'"
   ]
  },
  {
   "cell_type": "code",
   "execution_count": 16,
   "metadata": {
    "collapsed": false
   },
   "outputs": [],
   "source": [
    "def make_length_np(length):\n",
    "    i = 0\n",
    "    leng = np.array([])\n",
    "    \n",
    "    while(i < length):\n",
    "        leng = np.append(leng,[1])\n",
    "        i = i + 1\n",
    "        \n",
    "    return leng\n",
    "\n"
   ]
  },
  {
   "cell_type": "code",
   "execution_count": 17,
   "metadata": {
    "collapsed": true
   },
   "outputs": [],
   "source": [
    "def make_pad_line(dataset_loader,input_or_output,linenum):\n",
    "    if input_or_output == 0:\n",
    "        newline = dataset_loader.prepare_line()[linenum]\n",
    "        padding_line = np.full((1, 484, 100), 0, dtype=\"float32\")\n",
    "        i = 0\n",
    "        while(i < len(newline.split(' '))):\n",
    "            padding_line[0][i] = dataset_loader.get_wvmodel().wv[newline.split(' ')[i]]\n",
    "            i = i + 1\n",
    "    else:\n",
    "        newline = dataset_loader.de_prepare_line()[linenum]\n",
    "        padding_line = np.full((1, len(newline.split(' ')), 100), 0, dtype=\"float32\")\n",
    "        i = 0\n",
    "        while(i < len(newline.split(' '))):\n",
    "            padding_line[0][i] = dataset_loader.de_get_wvmodel().wv[newline.split(' ')[i]]\n",
    "            i = i + 1\n",
    "            \n",
    "    return newline, padding_line"
   ]
  },
  {
   "cell_type": "code",
   "execution_count": 18,
   "metadata": {
    "collapsed": false
   },
   "outputs": [
    {
     "name": "stdout",
     "output_type": "stream",
     "text": [
      "(1, 484, 100)\n",
      "[3.1680763]\n",
      "[None]\n",
      "[3.0666564]\n",
      "[None]\n",
      "[2.3715637]\n",
      "[None]\n",
      "[2.1503482]\n",
      "[None]\n",
      "[2.0489268]\n",
      "[None]\n",
      "[1.9277451]\n",
      "[None]\n",
      "[1.8415226]\n",
      "[None]\n",
      "[1.82366]\n",
      "[None]\n",
      "[1.8119841]\n",
      "[None]\n",
      "[1.8016429]\n",
      "[None]\n",
      "[1.8115758]\n",
      "[None]\n",
      "[1.8053695]\n",
      "[None]\n",
      "[1.8032975]\n",
      "[None]\n",
      "[1.8032998]\n",
      "[None]\n",
      "[1.805246]\n",
      "[None]\n",
      "[1.8029969]\n",
      "[None]\n",
      "[1.8011111]\n",
      "[None]\n",
      "[1.7926632]\n",
      "[None]\n",
      "[1.798755]\n",
      "[None]\n",
      "[1.7944866]\n",
      "[None]\n",
      "[1.795181]\n",
      "[None]\n",
      "[1.7902201]\n",
      "[None]\n",
      "[1.7862146]\n",
      "[None]\n",
      "[1.7866559]\n",
      "[None]\n",
      "[1.7854223]\n",
      "[None]\n",
      "[1.7841773]\n",
      "[None]\n",
      "[1.7863191]\n",
      "[None]\n",
      "[1.7846357]\n",
      "[None]\n",
      "[1.7852346]\n",
      "[None]\n",
      "[1.7860024]\n",
      "[None]\n",
      "[1.7847495]\n",
      "[None]\n",
      "[1.7846185]\n",
      "[None]\n",
      "[1.7846429]\n",
      "[None]\n",
      "[1.7841489]\n",
      "[None]\n",
      "[1.7846895]\n",
      "[None]\n",
      "[1.7841376]\n",
      "[None]\n",
      "[1.7839479]\n",
      "[None]\n",
      "[1.7843113]\n",
      "[None]\n",
      "[1.7840743]\n",
      "[None]\n",
      "[1.7838371]\n",
      "[None]\n",
      "[1.7837527]\n",
      "[None]\n",
      "[1.7829866]\n",
      "[None]\n",
      "[1.7815353]\n",
      "[None]\n",
      "[1.7826532]\n",
      "[None]\n",
      "[1.7829386]\n",
      "[None]\n",
      "[1.7827652]\n",
      "[None]\n",
      "[1.7821074]\n",
      "[None]\n",
      "[1.7816671]\n",
      "[None]\n",
      "[1.7821903]\n",
      "[None]\n",
      "[1.7820805]\n",
      "[None]\n"
     ]
    }
   ],
   "source": [
    "\n",
    "with tf.Graph().as_default(): #set default graph\n",
    "    \n",
    "    \n",
    "    newline, padding_line = make_pad_line(dataset_loader,0,0)\n",
    "    deline, de_padding_line = make_pad_line(dataset_loader,1,0)\n",
    "    \n",
    "    \n",
    "    encoder1 = encoder.naive_encoder(layers=1, directions =1, maxv=484, hiddensizes=100, bach_s=1)\n",
    "    decoder1 = decoder.attention_decoder(layers = 1, directions = 1, hiddensize = 100, input_length = 484, \n",
    "                       teacher_forcing = False)\n",
    "    \n",
    "    #workers, _ = tf.test.create_local_cluster(1, 0) #python 3.6 <\n",
    "    #worker = workers[0] #python 3.6 < \n",
    "\n",
    "\n",
    "    with tf.Session() as sess:\n",
    "            \n",
    "        encoder1.hidden_init(sess)\n",
    "        decoder1.hidden_init(sess)\n",
    "        \n",
    "        print(np.shape(padding_line))\n",
    "        en_out = encoder1.getoutput(sess,padding_line) #encoder_decoder seperate training ver\n",
    "        en_state = encoder1.getstate(sess,padding_line) #encoder_decoder seperate training ver\n",
    "        #en_out = encoder1.getoutput()\n",
    "        #en_state = encoder1.getstate()\n",
    "        \n",
    "        inputdic = {'sess':sess,\n",
    "                'realsente':de_padding_line[0], \n",
    "                'output_length': make_length_np(len(deline.split(' '))),\n",
    "                    'input_v':en_out[0][0],'enstate':en_state[0]}\n",
    "                   #'line':padding_line}\n",
    "        \n",
    "        \n",
    "        t = 0\n",
    "        while(t < 50):\n",
    "            \n",
    "            decoder1.calcost(**inputdic)\n",
    "            decoder1.training(**inputdic) #why decoder only training....\n",
    "            \n",
    "            t = t + 1"
   ]
  },
  {
   "cell_type": "code",
   "execution_count": 19,
   "metadata": {
    "collapsed": false
   },
   "outputs": [],
   "source": [
    "#import portpicker"
   ]
  },
  {
   "cell_type": "code",
   "execution_count": null,
   "metadata": {
    "collapsed": false
   },
   "outputs": [],
   "source": []
  },
  {
   "cell_type": "code",
   "execution_count": null,
   "metadata": {
    "collapsed": true
   },
   "outputs": [],
   "source": []
  }
 ],
 "metadata": {
  "kernelspec": {
   "display_name": "Python 3",
   "language": "python",
   "name": "python3"
  },
  "language_info": {
   "codemirror_mode": {
    "name": "ipython",
    "version": 3
   },
   "file_extension": ".py",
   "mimetype": "text/x-python",
   "name": "python",
   "nbconvert_exporter": "python",
   "pygments_lexer": "ipython3",
   "version": "3.4.5"
  }
 },
 "nbformat": 4,
 "nbformat_minor": 2
}
