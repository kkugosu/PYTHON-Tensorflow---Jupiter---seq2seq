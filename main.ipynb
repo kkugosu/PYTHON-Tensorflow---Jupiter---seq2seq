{
 "cells": [
  {
   "cell_type": "code",
   "execution_count": 1,
   "metadata": {
    "collapsed": true
   },
   "outputs": [],
   "source": [
    "import tensorflow as tf"
   ]
  },
  {
   "cell_type": "code",
   "execution_count": 2,
   "metadata": {
    "collapsed": true
   },
   "outputs": [],
   "source": [
    "import numpy as np\n",
    "from __future__ import absolute_import\n",
    "from __future__ import division\n",
    "from __future__ import print_function"
   ]
  },
  {
   "cell_type": "code",
   "execution_count": 3,
   "metadata": {
    "collapsed": true
   },
   "outputs": [],
   "source": [
    "import io,os,sys,types\n",
    "from IPython import get_ipython #for import notebook\n",
    "from nbformat import read #for import notebook\n",
    "from IPython.core.interactiveshell import InteractiveShell #for import notebook"
   ]
  },
  {
   "cell_type": "code",
   "execution_count": 4,
   "metadata": {
    "collapsed": true
   },
   "outputs": [],
   "source": [
    "def find_notebook(fullname, path=None): #for import notebook\n",
    "    \"\"\"find a notebook, given its fully qualified name and an optional path\n",
    "\n",
    "    This turns \"foo.bar\" into \"foo/bar.ipynb\"\n",
    "    and tries turning \"Foo_Bar\" into \"Foo Bar\" if Foo_Bar\n",
    "    does not exist.\n",
    "    \"\"\"\n",
    "    name = fullname.rsplit('.', 1)[-1]\n",
    "    if not path:\n",
    "        path = ['']\n",
    "    for d in path:\n",
    "        nb_path = os.path.join(d, name + \".ipynb\")\n",
    "        if os.path.isfile(nb_path):\n",
    "            return nb_path\n",
    "        # let import Notebook_Name find \"Notebook Name.ipynb\"\n",
    "        nb_path = nb_path.replace(\"_\", \" \")\n",
    "        if os.path.isfile(nb_path):\n",
    "            return nb_path"
   ]
  },
  {
   "cell_type": "code",
   "execution_count": 5,
   "metadata": {
    "collapsed": true
   },
   "outputs": [],
   "source": [
    "class NotebookLoader(object): #for import notebook\n",
    "    \"\"\"Module Loader for Jupyter Notebooks\"\"\"\n",
    "    def __init__(self, path=None):\n",
    "        self.shell = InteractiveShell.instance()\n",
    "        self.path = path\n",
    "\n",
    "    def load_module(self, fullname):\n",
    "        \"\"\"import a notebook as a module\"\"\"\n",
    "        path = find_notebook(fullname, self.path)\n",
    "\n",
    "        print (\"importing Jupyter notebook from %s\" % path)\n",
    "\n",
    "        # load the notebook object\n",
    "        with io.open(path, 'r', encoding='utf-8') as f:\n",
    "            nb = read(f, 4)\n",
    "\n",
    "\n",
    "        # create the module and add it to sys.modules\n",
    "        # if name in sys.modules:\n",
    "        #    return sys.modules[name]\n",
    "        mod = types.ModuleType(fullname)\n",
    "        mod.__file__ = path\n",
    "        mod.__loader__ = self\n",
    "        mod.__dict__['get_ipython'] = get_ipython\n",
    "        sys.modules[fullname] = mod\n",
    "\n",
    "        # extra work to ensure that magics that would affect the user_ns\n",
    "        # actually affect the notebook module's ns\n",
    "        save_user_ns = self.shell.user_ns\n",
    "        self.shell.user_ns = mod.__dict__\n",
    "\n",
    "        try:\n",
    "          for cell in nb.cells:\n",
    "            if cell.cell_type == 'code':\n",
    "                # transform the input to executable Python\n",
    "                code = self.shell.input_transformer_manager.transform_cell(cell.source)\n",
    "                # run the code in themodule\n",
    "                exec(code, mod.__dict__)\n",
    "        finally:\n",
    "            self.shell.user_ns = save_user_ns\n",
    "        return mod\n",
    "class NotebookFinder(object):\n",
    "    \"\"\"Module finder that locates Jupyter Notebooks\"\"\"\n",
    "    def __init__(self):\n",
    "        self.loaders = {}\n",
    "\n",
    "    def find_module(self, fullname, path=None):\n",
    "        nb_path = find_notebook(fullname, path)\n",
    "        if not nb_path:\n",
    "            return\n",
    "\n",
    "        key = path\n",
    "        if path:\n",
    "            # lists aren't hashable\n",
    "            key = os.path.sep.join(path)\n",
    "\n",
    "        if key not in self.loaders:\n",
    "            self.loaders[key] = NotebookLoader(path)\n",
    "        return self.loaders[key]"
   ]
  },
  {
   "cell_type": "code",
   "execution_count": 6,
   "metadata": {
    "collapsed": false
   },
   "outputs": [],
   "source": [
    "sys.meta_path.append(NotebookFinder())"
   ]
  },
  {
   "cell_type": "code",
   "execution_count": 7,
   "metadata": {
    "collapsed": false
   },
   "outputs": [
    {
     "name": "stdout",
     "output_type": "stream",
     "text": [
      "importing Jupyter notebook from myprepdata.ipynb\n"
     ]
    }
   ],
   "source": [
    "import myprepdata"
   ]
  },
  {
   "cell_type": "code",
   "execution_count": 8,
   "metadata": {
    "collapsed": false
   },
   "outputs": [
    {
     "name": "stdout",
     "output_type": "stream",
     "text": [
      "importing Jupyter notebook from encoder.ipynb\n"
     ]
    }
   ],
   "source": [
    "import encoder"
   ]
  },
  {
   "cell_type": "code",
   "execution_count": 9,
   "metadata": {
    "collapsed": false
   },
   "outputs": [
    {
     "name": "stdout",
     "output_type": "stream",
     "text": [
      "importing Jupyter notebook from decoder.ipynb\n"
     ]
    }
   ],
   "source": [
    "import decoder"
   ]
  },
  {
   "cell_type": "code",
   "execution_count": 10,
   "metadata": {
    "collapsed": false
   },
   "outputs": [
    {
     "name": "stdout",
     "output_type": "stream",
     "text": [
      "[('he', 0.9606667160987854),\n",
      " ('She', 0.7691636085510254),\n",
      " ('herself', 0.7592681646347046),\n",
      " ('He', 0.7463222742080688),\n",
      " ('nobody', 0.7147209644317627),\n",
      " ('Picard', 0.6965363025665283),\n",
      " ('himself', 0.6882157921791077),\n",
      " ('him', 0.6789597272872925),\n",
      " ('her', 0.6740684509277344),\n",
      " ('Kirk', 0.667111337184906)]\n",
      "[-0.67258787 -4.15615225 -1.72683489  1.6745466  -0.66765279  1.20479822\n",
      " -0.54290372 -0.17763264 -6.63635206 -3.36331749 -1.20754302 -4.75114679\n",
      "  3.3733356  -2.00328326  1.61597621 -2.5903039   3.89082551  2.05730581\n",
      " -0.37433237 -1.15445471  0.9606185   4.23989391  1.05038905 -1.0970273\n",
      " -3.27382827  1.57637691 -4.19764471 -2.15746975  2.48696518 -0.61238277\n",
      " -1.74696052 -0.37781578  0.34524947  2.54945087 -1.64452887  0.57680875\n",
      " -0.14833695  1.02612078 -0.26212877 -0.51345897 -1.39085841  0.09278773\n",
      " -1.48713863 -0.46643406  7.02497864  2.74286199 -0.83628732 -1.48309898\n",
      " -0.32239187 -3.01059842  1.07048142 -3.00496078  0.34531841  3.417485\n",
      "  2.11597872  0.14785768  0.43224403  0.61093956 -2.73394179 -1.91496217\n",
      " -2.31602764  2.11022353  3.03709865  0.61163723  0.87978035 -1.34368658\n",
      " -4.88440132 -1.7299546  -0.21339908 -1.17470872 -2.59537339  1.38333321\n",
      "  0.88531542  0.43189961  1.67749929 -1.24953771  1.51133716 -1.71328628\n",
      "  2.10449433  0.8787359   4.48812008 -0.84192741  3.90984416  0.00753402\n",
      "  2.64509892  2.40421772  1.52942765 -1.00621092 -0.50308841  0.01391463\n",
      " -0.20117365  1.02307236  4.01931715 -0.79575706  0.7374779   1.36256838\n",
      " -1.06702769 -0.8350783   0.61838496  1.31033885]\n"
     ]
    }
   ],
   "source": [
    "dataset_loader = myprepdata.prep()"
   ]
  },
  {
   "cell_type": "code",
   "execution_count": 11,
   "metadata": {
    "collapsed": false
   },
   "outputs": [
    {
     "data": {
      "text/plain": [
       "'Res@@ um@@ ption of the session'"
      ]
     },
     "execution_count": 11,
     "metadata": {},
     "output_type": "execute_result"
    }
   ],
   "source": [
    "newline = dataset_loader.prepare_line()[0]\n",
    "newline"
   ]
  },
  {
   "cell_type": "code",
   "execution_count": null,
   "metadata": {
    "collapsed": true
   },
   "outputs": [],
   "source": [
    "deline = dataset_loader.de_prepare_line()[0]\n",
    "deline"
   ]
  },
  {
   "cell_type": "code",
   "execution_count": 12,
   "metadata": {
    "collapsed": false
   },
   "outputs": [
    {
     "data": {
      "text/plain": [
       "array([-0.67258787, -4.15615225, -1.72683489,  1.6745466 , -0.66765279,\n",
       "        1.20479822, -0.54290372, -0.17763264, -6.63635206, -3.36331749,\n",
       "       -1.20754302, -4.75114679,  3.3733356 , -2.00328326,  1.61597621,\n",
       "       -2.5903039 ,  3.89082551,  2.05730581, -0.37433237, -1.15445471,\n",
       "        0.9606185 ,  4.23989391,  1.05038905, -1.0970273 , -3.27382827,\n",
       "        1.57637691, -4.19764471, -2.15746975,  2.48696518, -0.61238277,\n",
       "       -1.74696052, -0.37781578,  0.34524947,  2.54945087, -1.64452887,\n",
       "        0.57680875, -0.14833695,  1.02612078, -0.26212877, -0.51345897,\n",
       "       -1.39085841,  0.09278773, -1.48713863, -0.46643406,  7.02497864,\n",
       "        2.74286199, -0.83628732, -1.48309898, -0.32239187, -3.01059842,\n",
       "        1.07048142, -3.00496078,  0.34531841,  3.417485  ,  2.11597872,\n",
       "        0.14785768,  0.43224403,  0.61093956, -2.73394179, -1.91496217,\n",
       "       -2.31602764,  2.11022353,  3.03709865,  0.61163723,  0.87978035,\n",
       "       -1.34368658, -4.88440132, -1.7299546 , -0.21339908, -1.17470872,\n",
       "       -2.59537339,  1.38333321,  0.88531542,  0.43189961,  1.67749929,\n",
       "       -1.24953771,  1.51133716, -1.71328628,  2.10449433,  0.8787359 ,\n",
       "        4.48812008, -0.84192741,  3.90984416,  0.00753402,  2.64509892,\n",
       "        2.40421772,  1.52942765, -1.00621092, -0.50308841,  0.01391463,\n",
       "       -0.20117365,  1.02307236,  4.01931715, -0.79575706,  0.7374779 ,\n",
       "        1.36256838, -1.06702769, -0.8350783 ,  0.61838496,  1.31033885], dtype=float32)"
      ]
     },
     "execution_count": 12,
     "metadata": {},
     "output_type": "execute_result"
    }
   ],
   "source": [
    "dataset_loader.get_wvmodel().wv[\"Res@@\"]"
   ]
  },
  {
   "cell_type": "code",
   "execution_count": 13,
   "metadata": {
    "collapsed": false
   },
   "outputs": [
    {
     "data": {
      "text/plain": [
       "6"
      ]
     },
     "execution_count": 13,
     "metadata": {},
     "output_type": "execute_result"
    }
   ],
   "source": [
    "len(newline.split(' '))"
   ]
  },
  {
   "cell_type": "code",
   "execution_count": 14,
   "metadata": {
    "collapsed": false
   },
   "outputs": [
    {
     "data": {
      "text/plain": [
       "'Res@@'"
      ]
     },
     "execution_count": 14,
     "metadata": {},
     "output_type": "execute_result"
    }
   ],
   "source": [
    "newline.split(' ')[0]"
   ]
  },
  {
   "cell_type": "code",
   "execution_count": 15,
   "metadata": {
    "collapsed": false
   },
   "outputs": [],
   "source": [
    "padding_line = np.full((1, 484, 100), 0, dtype=\"float32\")\n",
    "de_padding_line = np.full((1, 484, 100), 0, dtype=\"float32\")\n",
    "i = 0\n",
    "#padding_line"
   ]
  },
  {
   "cell_type": "code",
   "execution_count": 16,
   "metadata": {
    "collapsed": true
   },
   "outputs": [],
   "source": [
    "while(i < len(newline.split(' '))):\n",
    "    padding_line[0][i] = dataset_loader.get_wvmodel().wv[newline.split(' ')[i]]\n",
    "    i = i + 1\n",
    "i = 0\n",
    "\n",
    "while(i < len(deline.split(' '))):\n",
    "    de_padding_line[0][i] = dataset_loader.get_wvmodel().wv[deline.split(' ')[i]]\n",
    "    i = i + 1"
   ]
  },
  {
   "cell_type": "code",
   "execution_count": 17,
   "metadata": {
    "collapsed": false
   },
   "outputs": [
    {
     "data": {
      "text/plain": [
       "array([ -2.79153895e+00,  -9.91192698e-01,   3.88136530e+00,\n",
       "         1.71788955e+00,   6.54532075e-01,  -1.20541775e+00,\n",
       "         1.43494594e+00,   4.70390528e-01,   2.07433009e+00,\n",
       "        -1.31157064e+00,   9.99202549e-01,  -1.27141881e+00,\n",
       "        -6.05699122e-01,   2.18877673e-01,   1.44830418e+00,\n",
       "         6.10079587e-01,   1.69904792e+00,  -3.16838861e+00,\n",
       "         3.16239262e+00,  -1.21705079e+00,   2.60337639e+00,\n",
       "         9.79356468e-01,   2.35289598e+00,  -5.42024314e-01,\n",
       "        -5.97896159e-01,  -1.21516347e+00,   6.28905833e-01,\n",
       "        -1.63248265e+00,   2.36454174e-01,  -1.82332563e+00,\n",
       "        -3.96156383e+00,   1.29517484e+00,   1.62870777e+00,\n",
       "         2.97482991e+00,  -3.38390827e+00,  -1.58795404e+00,\n",
       "        -4.92034149e+00,   8.77291933e-02,   3.12938857e+00,\n",
       "         3.65798742e-01,   7.25377500e-01,  -7.83566058e-01,\n",
       "        -5.24074137e-01,   2.08634663e+00,  -2.47501564e+00,\n",
       "        -1.52606532e-01,  -1.83872962e+00,   2.68980551e+00,\n",
       "        -1.99385881e+00,   2.44767642e+00,  -2.26731873e+00,\n",
       "         9.25534487e-01,   2.91149163e+00,   3.56143808e+00,\n",
       "        -9.68728483e-01,   3.61498189e+00,   2.70464683e+00,\n",
       "        -2.30440688e+00,   2.90105015e-01,  -2.31077719e+00,\n",
       "        -3.29919958e+00,   9.50243697e-02,  -9.65762534e-04,\n",
       "        -7.04451084e-01,  -4.16783619e+00,  -4.48105127e-01,\n",
       "        -6.08684957e-01,  -1.53848898e+00,  -4.61794090e+00,\n",
       "         9.70064759e-01,   2.70012641e+00,  -1.37624657e+00,\n",
       "        -2.15012217e+00,   1.05176866e+00,  -5.03586471e-01,\n",
       "        -6.33085072e-01,  -6.04095422e-02,   2.77352929e+00,\n",
       "        -1.04113892e-01,   7.71181762e-01,   9.42752182e-01,\n",
       "        -2.37471247e+00,  -1.08448100e+00,   1.94274163e+00,\n",
       "        -6.15073383e-01,   2.76896524e+00,  -1.60817707e+00,\n",
       "         6.06590688e-01,   1.16874957e+00,  -1.84517789e+00,\n",
       "         2.04862881e+00,   1.53986764e+00,   8.99323300e-02,\n",
       "        -1.89899945e+00,   1.22002959e+00,  -2.30603576e+00,\n",
       "         9.48297620e-01,  -2.46477485e+00,  -4.21792120e-01,\n",
       "        -3.39145571e-01], dtype=float32)"
      ]
     },
     "execution_count": 17,
     "metadata": {},
     "output_type": "execute_result"
    }
   ],
   "source": [
    "de_padding_line[0][5]"
   ]
  },
  {
   "cell_type": "code",
   "execution_count": 18,
   "metadata": {
    "collapsed": false
   },
   "outputs": [
    {
     "name": "stdout",
     "output_type": "stream",
     "text": [
      "hidden =  [array([[ -1.15045956e-24,   2.38584512e-24,  -1.39126073e-24,\n",
      "          9.72740241e-25,  -7.84536567e-25,   2.19906613e-25,\n",
      "         -3.38766628e-25,  -1.73495362e-24,  -2.34776530e-26,\n",
      "         -2.85835486e-24,   1.39200532e-24,  -6.94683338e-25,\n",
      "          9.60993905e-25,  -8.09958103e-25,  -4.41777095e-25,\n",
      "          3.25841127e-24,   1.33342401e-24,   7.34203248e-25,\n",
      "         -1.20623843e-24,  -8.07025414e-25,   1.03784671e-24,\n",
      "         -4.07957075e-25,  -1.90438511e-26,  -5.40554240e-26,\n",
      "          8.14272580e-25,   5.12747725e-26,  -9.87028287e-25,\n",
      "         -5.19047697e-25,   5.63947392e-25,  -1.54997289e-25,\n",
      "         -3.61766681e-26,   6.75686581e-25,   2.39516093e-25,\n",
      "          3.29363923e-24,   4.63553058e-25,   7.04443125e-25,\n",
      "         -1.16233724e-24,   6.35729987e-25,   1.13783966e-24,\n",
      "         -1.08976716e-24,  -8.57792754e-25,   1.55595201e-24,\n",
      "         -1.27656607e-24,   3.62526512e-24,   3.40511859e-25,\n",
      "          2.71377105e-24,   1.12846858e-24,   1.88068345e-24,\n",
      "          4.43919148e-25,   1.20892973e-24,   3.72646379e-25,\n",
      "          2.57044764e-24,   7.00507559e-26,   2.86713251e-24,\n",
      "         -4.99382677e-25,   7.25642480e-25,   2.29720437e-25,\n",
      "          9.80460132e-25,   9.98810713e-25,  -6.82872660e-25,\n",
      "          2.99279677e-25,  -1.49171901e-24,   6.17193038e-25,\n",
      "         -8.94509595e-25,  -8.45163289e-25,  -8.33431448e-25,\n",
      "          1.13190476e-24,   1.51904202e-25,   2.12440094e-25,\n",
      "          1.77046972e-24,  -2.30138336e-25,  -1.71690882e-24,\n",
      "         -3.30238228e-25,   7.24875608e-25,  -4.51536291e-25,\n",
      "         -9.81519079e-25,  -1.52928457e-24,   8.44918249e-25,\n",
      "         -3.95098322e-25,   1.62830690e-25,  -4.97052727e-25,\n",
      "          8.52257810e-25,   2.44515287e-24,   2.33683280e-24,\n",
      "         -1.29943624e-24,  -1.23828492e-24,   1.71275015e-24,\n",
      "          1.70416635e-24,  -2.14438564e-24,   2.24467629e-24,\n",
      "          4.47537308e-25,  -2.75254820e-25,  -1.36707997e-24,\n",
      "         -5.58031872e-25,  -5.97817825e-25,   9.80503815e-25,\n",
      "         -9.70556477e-25,  -9.96551810e-25,   1.28911596e-24,\n",
      "         -7.16718589e-25]], dtype=float32)]\n",
      "en =  [array([[[  7.53749609e-01,   8.55519354e-01,  -3.59602273e-02, ...,\n",
      "          -5.58380149e-02,   8.92801508e-02,  -5.80373347e-01],\n",
      "        [  3.95974636e-01,  -2.86709100e-01,  -1.82388946e-01, ...,\n",
      "          -1.58440962e-01,   4.49748397e-01,  -6.75103724e-01],\n",
      "        [  6.24088168e-01,   9.20315981e-02,   7.33220041e-01, ...,\n",
      "           1.66766256e-01,   4.52023327e-01,   3.85962188e-01],\n",
      "        ..., \n",
      "        [ -1.37392393e-24,   2.92438922e-24,  -1.72242612e-24, ...,\n",
      "          -1.31649289e-24,   1.54075352e-24,  -8.38343586e-25],\n",
      "        [ -1.25878870e-24,   2.64412449e-24,  -1.54953611e-24, ...,\n",
      "          -1.14695386e-24,   1.41105680e-24,  -7.76333104e-25],\n",
      "        [ -1.15045956e-24,   2.38584512e-24,  -1.39126073e-24, ...,\n",
      "          -9.96551810e-25,   1.28911596e-24,  -7.16718589e-25]]], dtype=float32)]\n",
      "(1, 1, 484, 100)\n"
     ]
    }
   ],
   "source": [
    "\n",
    "with tf.Graph().as_default(): #set default graph\n",
    "    encoder1 = encoder.naive_encoder(layers=1, directions =1, maxv=484, hiddensizes=100, bach_s=1)\n",
    "\n",
    "    decoder = attention_decoder(layers = 1, directions = 1, hiddensizes = 484, input_length = 484, \n",
    "                     output_v, output_length, teacher_forcing = False)\n",
    "\n",
    "    #workers, _ = tf.test.create_local_cluster(1, 0) #python 3.6 <\n",
    "    #worker = workers[0] #python 3.6 < \n",
    "\n",
    "\n",
    "    with tf.Session() as sess:\n",
    "            \n",
    "        encoder1.hidden_init(sess)\n",
    "        encoder1.train(sess,padding_line)\n",
    "        #decoder1.getenout(encoder1.getoutput())\n",
    "        #decoder1.train(sess)\n",
    "        print(np.shape(encoder1.getoutput(sess,padding_line)))\n"
   ]
  },
  {
   "cell_type": "code",
   "execution_count": 19,
   "metadata": {
    "collapsed": false
   },
   "outputs": [],
   "source": [
    "#import portpicker"
   ]
  },
  {
   "cell_type": "code",
   "execution_count": null,
   "metadata": {
    "collapsed": false
   },
   "outputs": [],
   "source": []
  },
  {
   "cell_type": "code",
   "execution_count": null,
   "metadata": {
    "collapsed": true
   },
   "outputs": [],
   "source": []
  }
 ],
 "metadata": {
  "kernelspec": {
   "display_name": "Python 3",
   "language": "python",
   "name": "python3"
  },
  "language_info": {
   "codemirror_mode": {
    "name": "ipython",
    "version": 3
   },
   "file_extension": ".py",
   "mimetype": "text/x-python",
   "name": "python",
   "nbconvert_exporter": "python",
   "pygments_lexer": "ipython3",
   "version": "3.4.5"
  }
 },
 "nbformat": 4,
 "nbformat_minor": 2
}
