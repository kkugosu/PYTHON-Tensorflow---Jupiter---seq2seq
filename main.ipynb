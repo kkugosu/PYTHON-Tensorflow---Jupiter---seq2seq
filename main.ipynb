{
 "cells": [
  {
   "cell_type": "code",
   "execution_count": 1,
   "metadata": {
    "collapsed": true
   },
   "outputs": [],
   "source": [
    "import tensorflow as tf"
   ]
  },
  {
   "cell_type": "code",
   "execution_count": 2,
   "metadata": {
    "collapsed": true
   },
   "outputs": [],
   "source": [
    "import numpy as np\n",
    "from __future__ import absolute_import\n",
    "from __future__ import division\n",
    "from __future__ import print_function"
   ]
  },
  {
   "cell_type": "code",
   "execution_count": 3,
   "metadata": {
    "collapsed": true
   },
   "outputs": [],
   "source": [
    "import io,os,sys,types\n",
    "from IPython import get_ipython #for import notebook\n",
    "from nbformat import read #for import notebook\n",
    "from IPython.core.interactiveshell import InteractiveShell #for import notebook"
   ]
  },
  {
   "cell_type": "code",
   "execution_count": 4,
   "metadata": {
    "collapsed": true
   },
   "outputs": [],
   "source": [
    "def find_notebook(fullname, path=None): #for import notebook\n",
    "    \"\"\"find a notebook, given its fully qualified name and an optional path\n",
    "\n",
    "    This turns \"foo.bar\" into \"foo/bar.ipynb\"\n",
    "    and tries turning \"Foo_Bar\" into \"Foo Bar\" if Foo_Bar\n",
    "    does not exist.\n",
    "    \"\"\"\n",
    "    name = fullname.rsplit('.', 1)[-1]\n",
    "    if not path:\n",
    "        path = ['']\n",
    "    for d in path:\n",
    "        nb_path = os.path.join(d, name + \".ipynb\")\n",
    "        if os.path.isfile(nb_path):\n",
    "            return nb_path\n",
    "        # let import Notebook_Name find \"Notebook Name.ipynb\"\n",
    "        nb_path = nb_path.replace(\"_\", \" \")\n",
    "        if os.path.isfile(nb_path):\n",
    "            return nb_path"
   ]
  },
  {
   "cell_type": "code",
   "execution_count": 5,
   "metadata": {
    "collapsed": true
   },
   "outputs": [],
   "source": [
    "class NotebookLoader(object): #for import notebook\n",
    "    \"\"\"Module Loader for Jupyter Notebooks\"\"\"\n",
    "    def __init__(self, path=None):\n",
    "        self.shell = InteractiveShell.instance()\n",
    "        self.path = path\n",
    "\n",
    "    def load_module(self, fullname):\n",
    "        \"\"\"import a notebook as a module\"\"\"\n",
    "        path = find_notebook(fullname, self.path)\n",
    "\n",
    "        print (\"importing Jupyter notebook from %s\" % path)\n",
    "\n",
    "        # load the notebook object\n",
    "        with io.open(path, 'r', encoding='utf-8') as f:\n",
    "            nb = read(f, 4)\n",
    "\n",
    "\n",
    "        # create the module and add it to sys.modules\n",
    "        # if name in sys.modules:\n",
    "        #    return sys.modules[name]\n",
    "        mod = types.ModuleType(fullname)\n",
    "        mod.__file__ = path\n",
    "        mod.__loader__ = self\n",
    "        mod.__dict__['get_ipython'] = get_ipython\n",
    "        sys.modules[fullname] = mod\n",
    "\n",
    "        # extra work to ensure that magics that would affect the user_ns\n",
    "        # actually affect the notebook module's ns\n",
    "        save_user_ns = self.shell.user_ns\n",
    "        self.shell.user_ns = mod.__dict__\n",
    "\n",
    "        try:\n",
    "          for cell in nb.cells:\n",
    "            if cell.cell_type == 'code':\n",
    "                # transform the input to executable Python\n",
    "                code = self.shell.input_transformer_manager.transform_cell(cell.source)\n",
    "                # run the code in themodule\n",
    "                exec(code, mod.__dict__)\n",
    "        finally:\n",
    "            self.shell.user_ns = save_user_ns\n",
    "        return mod\n",
    "class NotebookFinder(object):\n",
    "    \"\"\"Module finder that locates Jupyter Notebooks\"\"\"\n",
    "    def __init__(self):\n",
    "        self.loaders = {}\n",
    "\n",
    "    def find_module(self, fullname, path=None):\n",
    "        nb_path = find_notebook(fullname, path)\n",
    "        if not nb_path:\n",
    "            return\n",
    "\n",
    "        key = path\n",
    "        if path:\n",
    "            # lists aren't hashable\n",
    "            key = os.path.sep.join(path)\n",
    "\n",
    "        if key not in self.loaders:\n",
    "            self.loaders[key] = NotebookLoader(path)\n",
    "        return self.loaders[key]"
   ]
  },
  {
   "cell_type": "code",
   "execution_count": 6,
   "metadata": {
    "collapsed": false
   },
   "outputs": [],
   "source": [
    "sys.meta_path.append(NotebookFinder())"
   ]
  },
  {
   "cell_type": "code",
   "execution_count": 7,
   "metadata": {
    "collapsed": false
   },
   "outputs": [
    {
     "name": "stdout",
     "output_type": "stream",
     "text": [
      "importing Jupyter notebook from myprepdata.ipynb\n"
     ]
    }
   ],
   "source": [
    "import myprepdata"
   ]
  },
  {
   "cell_type": "code",
   "execution_count": 8,
   "metadata": {
    "collapsed": false
   },
   "outputs": [
    {
     "name": "stdout",
     "output_type": "stream",
     "text": [
      "importing Jupyter notebook from encoder.ipynb\n"
     ]
    }
   ],
   "source": [
    "import encoder"
   ]
  },
  {
   "cell_type": "code",
   "execution_count": 9,
   "metadata": {
    "collapsed": false
   },
   "outputs": [
    {
     "name": "stdout",
     "output_type": "stream",
     "text": [
      "importing Jupyter notebook from decoder.ipynb\n"
     ]
    }
   ],
   "source": [
    "import decoder"
   ]
  },
  {
   "cell_type": "code",
   "execution_count": 10,
   "metadata": {
    "collapsed": false
   },
   "outputs": [
    {
     "name": "stdout",
     "output_type": "stream",
     "text": [
      "[  8.89466166e-01   2.06377721e+00   6.17529333e-01   3.18206835e+00\n",
      "   7.67453134e-01  -1.99592626e+00  -1.48355320e-01  -1.96766481e-01\n",
      "  -3.16980266e-04   2.14467272e-01  -4.14004624e-01   3.57001126e-01\n",
      "  -1.75457168e+00  -1.39167953e+00   2.63751793e+00   1.19258475e+00\n",
      "   6.61663294e-01  -3.63710284e-01   1.10500908e+00  -1.90649366e+00\n",
      "  -1.27631116e+00   7.06363976e-01   2.16604018e+00   7.20149457e-01\n",
      "   1.19366109e+00   3.15650672e-01  -3.05436397e+00   7.40569711e-01\n",
      "   8.19141865e-01   1.18011284e+00   4.69861925e-01   8.27771947e-02\n",
      "   1.12338221e+00   2.47764182e+00   3.43266904e-01  -2.68325806e+00\n",
      "  -1.40979004e+00  -1.32848775e+00   7.03199029e-01   9.64148343e-02\n",
      "   3.22712660e-01  -2.13381246e-01  -1.01692128e+00   1.25775146e+00\n",
      "   1.02071427e-01  -1.11394691e+00  -2.41053867e+00  -1.19636559e+00\n",
      "   4.32757884e-01   1.38155115e+00   1.13593802e-01  -1.06976998e+00\n",
      "   1.57687080e+00   1.43941748e+00   2.68036485e-01   1.28006709e+00\n",
      "   1.21146309e+00   6.14654839e-01   2.15204167e+00   1.22273111e+00\n",
      "   1.90594003e-01   2.39681888e+00   1.16187465e+00  -1.55696607e+00\n",
      "  -7.31308460e-01   1.52452505e+00   9.97587621e-01   3.14125925e-01\n",
      "   1.44812167e+00  -1.64439595e+00  -1.27866435e+00  -8.83129060e-01\n",
      "   8.16591024e-01   1.95926383e-01  -1.66098487e+00   8.79419565e-01\n",
      "  -5.52360296e-01   9.31477249e-01  -1.61542225e+00  -2.95410728e+00\n",
      "   8.43243837e-01   5.40459573e-01  -8.84331405e-01  -1.23990583e+00\n",
      "  -2.10240602e+00  -5.83475113e-01   1.54290402e+00   5.65786250e-02\n",
      "   8.37796569e-01   1.36398625e+00   1.77913010e-01  -1.51402771e+00\n",
      "  -1.28882706e+00  -2.48839760e+00   3.25758278e-01  -5.80109358e-01\n",
      "   2.52578783e+00   4.08504963e+00  -1.20362306e+00  -8.87646019e-01]\n"
     ]
    }
   ],
   "source": [
    "dataset_loader = myprepdata.prep()"
   ]
  },
  {
   "cell_type": "code",
   "execution_count": 11,
   "metadata": {
    "collapsed": false
   },
   "outputs": [
    {
     "data": {
      "text/plain": [
       "'Res@@ um@@ ption of the session'"
      ]
     },
     "execution_count": 11,
     "metadata": {},
     "output_type": "execute_result"
    }
   ],
   "source": [
    "newline = dataset_loader.prepare_line()[0]\n",
    "newline"
   ]
  },
  {
   "cell_type": "code",
   "execution_count": 12,
   "metadata": {
    "collapsed": false
   },
   "outputs": [
    {
     "data": {
      "text/plain": [
       "'Wiederaufnahme der Sitzungsperiode'"
      ]
     },
     "execution_count": 12,
     "metadata": {},
     "output_type": "execute_result"
    }
   ],
   "source": [
    "deline = dataset_loader.de_prepare_line()[0]\n",
    "deline"
   ]
  },
  {
   "cell_type": "code",
   "execution_count": 13,
   "metadata": {
    "collapsed": false
   },
   "outputs": [
    {
     "data": {
      "text/plain": [
       "array([-0.67258787, -4.15615225, -1.72683489,  1.6745466 , -0.66765279,\n",
       "        1.20479822, -0.54290372, -0.17763264, -6.63635206, -3.36331749,\n",
       "       -1.20754302, -4.75114679,  3.3733356 , -2.00328326,  1.61597621,\n",
       "       -2.5903039 ,  3.89082551,  2.05730581, -0.37433237, -1.15445471,\n",
       "        0.9606185 ,  4.23989391,  1.05038905, -1.0970273 , -3.27382827,\n",
       "        1.57637691, -4.19764471, -2.15746975,  2.48696518, -0.61238277,\n",
       "       -1.74696052, -0.37781578,  0.34524947,  2.54945087, -1.64452887,\n",
       "        0.57680875, -0.14833695,  1.02612078, -0.26212877, -0.51345897,\n",
       "       -1.39085841,  0.09278773, -1.48713863, -0.46643406,  7.02497864,\n",
       "        2.74286199, -0.83628732, -1.48309898, -0.32239187, -3.01059842,\n",
       "        1.07048142, -3.00496078,  0.34531841,  3.417485  ,  2.11597872,\n",
       "        0.14785768,  0.43224403,  0.61093956, -2.73394179, -1.91496217,\n",
       "       -2.31602764,  2.11022353,  3.03709865,  0.61163723,  0.87978035,\n",
       "       -1.34368658, -4.88440132, -1.7299546 , -0.21339908, -1.17470872,\n",
       "       -2.59537339,  1.38333321,  0.88531542,  0.43189961,  1.67749929,\n",
       "       -1.24953771,  1.51133716, -1.71328628,  2.10449433,  0.8787359 ,\n",
       "        4.48812008, -0.84192741,  3.90984416,  0.00753402,  2.64509892,\n",
       "        2.40421772,  1.52942765, -1.00621092, -0.50308841,  0.01391463,\n",
       "       -0.20117365,  1.02307236,  4.01931715, -0.79575706,  0.7374779 ,\n",
       "        1.36256838, -1.06702769, -0.8350783 ,  0.61838496,  1.31033885], dtype=float32)"
      ]
     },
     "execution_count": 13,
     "metadata": {},
     "output_type": "execute_result"
    }
   ],
   "source": [
    "dataset_loader.get_wvmodel().wv[\"Res@@\"]"
   ]
  },
  {
   "cell_type": "code",
   "execution_count": 14,
   "metadata": {
    "collapsed": false
   },
   "outputs": [
    {
     "data": {
      "text/plain": [
       "6"
      ]
     },
     "execution_count": 14,
     "metadata": {},
     "output_type": "execute_result"
    }
   ],
   "source": [
    "len(newline.split(' '))"
   ]
  },
  {
   "cell_type": "code",
   "execution_count": 15,
   "metadata": {
    "collapsed": false
   },
   "outputs": [
    {
     "data": {
      "text/plain": [
       "'Res@@'"
      ]
     },
     "execution_count": 15,
     "metadata": {},
     "output_type": "execute_result"
    }
   ],
   "source": [
    "newline.split(' ')[0]"
   ]
  },
  {
   "cell_type": "code",
   "execution_count": 16,
   "metadata": {
    "collapsed": false
   },
   "outputs": [],
   "source": [
    "padding_line = np.full((1, 484, 100), 0, dtype=\"float32\")\n",
    "de_padding_line = np.full((1, 3, 100), 0, dtype=\"float32\")\n",
    "i = 0\n",
    "#padding_line"
   ]
  },
  {
   "cell_type": "code",
   "execution_count": 17,
   "metadata": {
    "collapsed": false
   },
   "outputs": [],
   "source": [
    "while(i < len(newline.split(' '))):\n",
    "    padding_line[0][i] = dataset_loader.get_wvmodel().wv[newline.split(' ')[i]]\n",
    "    i = i + 1\n",
    "i = 0\n",
    "\n",
    "while(i < len(deline.split(' '))):\n",
    "    de_padding_line[0][i] = dataset_loader.de_get_wvmodel().wv[deline.split(' ')[i]]\n",
    "    i = i + 1"
   ]
  },
  {
   "cell_type": "code",
   "execution_count": 18,
   "metadata": {
    "collapsed": false
   },
   "outputs": [
    {
     "data": {
      "text/plain": [
       "array([-1.16796255,  4.08470106, -1.14912891,  0.16463454, -0.60790056,\n",
       "        0.98632014,  0.03656695, -1.04373217,  4.78645897,  3.07820916,\n",
       "       -0.23398891,  2.22593546, -0.22403085,  0.36990732,  4.49744558,\n",
       "        0.15719461, -1.70705783, -1.05890298,  2.06401539, -4.90328693,\n",
       "       -1.15247893,  1.36518836, -0.30293822,  3.44166207,  0.95330393,\n",
       "       -0.92819381, -0.33055443, -1.3885417 , -0.45812017,  1.86859751,\n",
       "       -0.60691816, -0.73033249,  2.29482031, -1.34969199, -1.00371766,\n",
       "       -3.21881509, -0.60357022,  0.05063005,  0.37750426,  1.24002087,\n",
       "        0.33714008, -1.77580595, -0.61027128, -0.23812634, -1.28080368,\n",
       "       -3.05595374, -2.05308676, -0.70262378,  0.17834105, -0.98828769,\n",
       "       -1.62905455,  1.10368884,  1.40606165,  2.52097225,  0.14530618,\n",
       "       -0.47233748, -1.1117965 , -1.03726923,  2.86678886,  2.92978334,\n",
       "       -2.53581524,  0.39890549, -2.79667115, -0.61639524,  1.67488325,\n",
       "       -1.26576602, -0.78218991, -0.09562778,  0.27236822, -0.84041095,\n",
       "       -0.09073656, -0.21126667, -0.56287158,  4.15755558,  0.28990132,\n",
       "        0.0696492 ,  2.08687687,  2.3506372 , -3.27986836, -1.40178764,\n",
       "       -0.39975446,  1.13264859, -1.16840935,  0.1811862 , -0.25858748,\n",
       "       -0.47789636,  1.30228972,  0.74855608, -1.27159715,  0.81036502,\n",
       "        1.27929735, -0.54708737, -1.40165508, -4.1036377 ,  0.66551441,\n",
       "        2.03494978,  3.49432588, -0.76101369, -3.98785472,  3.79366946], dtype=float32)"
      ]
     },
     "execution_count": 18,
     "metadata": {},
     "output_type": "execute_result"
    }
   ],
   "source": [
    "de_padding_line[0][2]"
   ]
  },
  {
   "cell_type": "code",
   "execution_count": 27,
   "metadata": {
    "collapsed": false
   },
   "outputs": [
    {
     "name": "stdout",
     "output_type": "stream",
     "text": [
      "hidden =  [array([[ -3.11628128e-28,  -1.56452101e-27,  -1.32144332e-27,\n",
      "         -1.28682923e-28,  -4.41324825e-28,  -1.93971852e-28,\n",
      "         -7.42422064e-28,  -9.61991415e-28,  -9.41458654e-29,\n",
      "          3.86413384e-28,  -9.67919234e-28,  -3.27654754e-28,\n",
      "          1.04949806e-27,  -2.15128590e-28,  -1.24975776e-29,\n",
      "          3.97872041e-28,  -5.77032541e-28,   3.63329140e-28,\n",
      "          4.83349705e-29,   1.44240104e-28,   3.99953297e-28,\n",
      "         -1.14191227e-27,  -1.57334956e-27,   6.68499131e-29,\n",
      "          9.18820636e-28,  -3.44822421e-28,  -4.16708455e-28,\n",
      "          6.59392672e-28,   6.73933058e-28,  -2.61186867e-28,\n",
      "         -7.44994480e-28,  -1.43186981e-28,   5.05039257e-28,\n",
      "         -4.45500722e-28,  -5.33673117e-28,   3.56766726e-28,\n",
      "          9.28515923e-29,   4.01087092e-28,  -1.89100176e-28,\n",
      "         -4.26533087e-29,  -2.94784282e-28,   1.44666420e-28,\n",
      "          2.11471899e-28,   1.26802736e-27,   1.02258772e-27,\n",
      "         -7.77782956e-28,  -6.64724429e-29,   4.62203590e-28,\n",
      "         -4.22183434e-29,  -2.75719020e-28,  -7.28575446e-28,\n",
      "         -4.93228637e-28,   7.00377858e-28,  -3.96640433e-28,\n",
      "         -1.48217919e-28,   1.80534121e-28,   2.37889013e-28,\n",
      "         -8.18695775e-28,   7.79843114e-30,   7.15507771e-28,\n",
      "         -8.93375923e-28,   6.80988991e-28,   9.68882007e-28,\n",
      "          3.90436291e-28,  -6.62279063e-28,   1.24613599e-27,\n",
      "          4.76613061e-28,   3.31481962e-28,   1.48130745e-27,\n",
      "          9.63109417e-28,   1.47262442e-28,  -3.08750692e-28,\n",
      "          6.96737994e-28,  -2.18796090e-28,  -1.08430251e-27,\n",
      "          6.38201280e-28,  -3.65559583e-28,   2.60132445e-28,\n",
      "         -1.16126173e-28,  -1.58403609e-28,   3.15634544e-28,\n",
      "         -1.01500774e-27,  -8.48633104e-29,   1.36556599e-27,\n",
      "         -7.07657921e-29,   6.89511087e-28,   8.04837457e-28,\n",
      "         -3.62372362e-28,  -8.68851324e-28,  -4.08383285e-28,\n",
      "          9.28535508e-28,  -3.25918552e-28,  -1.79693068e-28,\n",
      "          1.61757917e-28,   2.87204736e-28,  -6.51233518e-28,\n",
      "         -2.92705963e-28,   8.00346237e-28,  -7.23665480e-28,\n",
      "         -1.04098319e-28]], dtype=float32)]\n",
      "en =  [array([[[ -6.78389370e-01,   1.14336997e-01,  -4.86359512e-03, ...,\n",
      "           1.04965091e-01,   5.76088345e-03,  -6.90367639e-01],\n",
      "        [ -5.55094481e-01,   1.44637227e-01,  -7.23278895e-02, ...,\n",
      "           7.01630294e-01,   4.88099426e-01,  -6.94235802e-01],\n",
      "        [ -1.37663007e-01,  -5.21082506e-02,   3.56627584e-01, ...,\n",
      "           6.57958269e-01,   2.13366941e-01,  -3.48972917e-01],\n",
      "        ..., \n",
      "        [ -4.02900331e-28,  -2.02468393e-27,  -1.70726872e-27, ...,\n",
      "           1.03432289e-27,  -9.36316939e-28,  -1.36404133e-28],\n",
      "        [ -3.54329606e-28,  -1.77978595e-27,  -1.50201928e-27, ...,\n",
      "           9.09842624e-28,  -8.23133021e-28,  -1.19153614e-28],\n",
      "        [ -3.11628128e-28,  -1.56452101e-27,  -1.32144332e-27, ...,\n",
      "           8.00346237e-28,  -7.23665480e-28,  -1.04098319e-28]]], dtype=float32)]\n",
      "(1, 1, 484, 100)\n",
      "(1, 1, 100)\n"
     ]
    },
    {
     "ename": "ValueError",
     "evalue": "Cannot feed value of shape (1, 484, 100) for Tensor 'input/Placeholder:0', which has shape '(484, 100)'",
     "output_type": "error",
     "traceback": [
      "\u001b[0;31m---------------------------------------------------------------------------\u001b[0m",
      "\u001b[0;31mValueError\u001b[0m                                Traceback (most recent call last)",
      "\u001b[0;32m<ipython-input-27-329ce5e24f09>\u001b[0m in \u001b[0;36m<module>\u001b[0;34m()\u001b[0m\n\u001b[1;32m     20\u001b[0m         \u001b[0men_out\u001b[0m \u001b[0;34m=\u001b[0m \u001b[0mencoder1\u001b[0m\u001b[0;34m.\u001b[0m\u001b[0mgetoutput\u001b[0m\u001b[0;34m(\u001b[0m\u001b[0msess\u001b[0m\u001b[0;34m,\u001b[0m\u001b[0mpadding_line\u001b[0m\u001b[0;34m)\u001b[0m\u001b[0;34m\u001b[0m\u001b[0m\n\u001b[1;32m     21\u001b[0m         \u001b[0men_state\u001b[0m \u001b[0;34m=\u001b[0m \u001b[0mencoder1\u001b[0m\u001b[0;34m.\u001b[0m\u001b[0mgetstate\u001b[0m\u001b[0;34m(\u001b[0m\u001b[0msess\u001b[0m\u001b[0;34m,\u001b[0m\u001b[0mpadding_line\u001b[0m\u001b[0;34m)\u001b[0m\u001b[0;34m\u001b[0m\u001b[0m\n\u001b[0;32m---> 22\u001b[0;31m         \u001b[0mdecoder1\u001b[0m\u001b[0;34m.\u001b[0m\u001b[0mtrain\u001b[0m\u001b[0;34m(\u001b[0m\u001b[0msess\u001b[0m\u001b[0;34m,\u001b[0m\u001b[0men_out\u001b[0m\u001b[0;34m[\u001b[0m\u001b[0;36m0\u001b[0m\u001b[0;34m]\u001b[0m\u001b[0;34m,\u001b[0m\u001b[0men_state\u001b[0m\u001b[0;34m[\u001b[0m\u001b[0;36m0\u001b[0m\u001b[0;34m]\u001b[0m\u001b[0;34m)\u001b[0m\u001b[0;34m\u001b[0m\u001b[0m\n\u001b[0m",
      "\u001b[0;32m/home/jongsu/Desktop/seq2seq/decoder.ipynb\u001b[0m in \u001b[0;36mtrain\u001b[0;34m(self, sess, input_v, grustate)\u001b[0m\n",
      "\u001b[0;32m/home/jongsu/.pyenv/versions/anaconda3-4.2.0/envs/tensorflow/lib/python3.4/site-packages/tensorflow/python/client/session.py\u001b[0m in \u001b[0;36mrun\u001b[0;34m(self, fetches, feed_dict, options, run_metadata)\u001b[0m\n\u001b[1;32m    887\u001b[0m     \u001b[0;32mtry\u001b[0m\u001b[0;34m:\u001b[0m\u001b[0;34m\u001b[0m\u001b[0m\n\u001b[1;32m    888\u001b[0m       result = self._run(None, fetches, feed_dict, options_ptr,\n\u001b[0;32m--> 889\u001b[0;31m                          run_metadata_ptr)\n\u001b[0m\u001b[1;32m    890\u001b[0m       \u001b[0;32mif\u001b[0m \u001b[0mrun_metadata\u001b[0m\u001b[0;34m:\u001b[0m\u001b[0;34m\u001b[0m\u001b[0m\n\u001b[1;32m    891\u001b[0m         \u001b[0mproto_data\u001b[0m \u001b[0;34m=\u001b[0m \u001b[0mtf_session\u001b[0m\u001b[0;34m.\u001b[0m\u001b[0mTF_GetBuffer\u001b[0m\u001b[0;34m(\u001b[0m\u001b[0mrun_metadata_ptr\u001b[0m\u001b[0;34m)\u001b[0m\u001b[0;34m\u001b[0m\u001b[0m\n",
      "\u001b[0;32m/home/jongsu/.pyenv/versions/anaconda3-4.2.0/envs/tensorflow/lib/python3.4/site-packages/tensorflow/python/client/session.py\u001b[0m in \u001b[0;36m_run\u001b[0;34m(self, handle, fetches, feed_dict, options, run_metadata)\u001b[0m\n\u001b[1;32m   1094\u001b[0m                 \u001b[0;34m'Cannot feed value of shape %r for Tensor %r, '\u001b[0m\u001b[0;34m\u001b[0m\u001b[0m\n\u001b[1;32m   1095\u001b[0m                 \u001b[0;34m'which has shape %r'\u001b[0m\u001b[0;34m\u001b[0m\u001b[0m\n\u001b[0;32m-> 1096\u001b[0;31m                 % (np_val.shape, subfeed_t.name, str(subfeed_t.get_shape())))\n\u001b[0m\u001b[1;32m   1097\u001b[0m           \u001b[0;32mif\u001b[0m \u001b[0;32mnot\u001b[0m \u001b[0mself\u001b[0m\u001b[0;34m.\u001b[0m\u001b[0mgraph\u001b[0m\u001b[0;34m.\u001b[0m\u001b[0mis_feedable\u001b[0m\u001b[0;34m(\u001b[0m\u001b[0msubfeed_t\u001b[0m\u001b[0;34m)\u001b[0m\u001b[0;34m:\u001b[0m\u001b[0;34m\u001b[0m\u001b[0m\n\u001b[1;32m   1098\u001b[0m             \u001b[0;32mraise\u001b[0m \u001b[0mValueError\u001b[0m\u001b[0;34m(\u001b[0m\u001b[0;34m'Tensor %s may not be fed.'\u001b[0m \u001b[0;34m%\u001b[0m \u001b[0msubfeed_t\u001b[0m\u001b[0;34m)\u001b[0m\u001b[0;34m\u001b[0m\u001b[0m\n",
      "\u001b[0;31mValueError\u001b[0m: Cannot feed value of shape (1, 484, 100) for Tensor 'input/Placeholder:0', which has shape '(484, 100)'"
     ]
    }
   ],
   "source": [
    "\n",
    "with tf.Graph().as_default(): #set default graph\n",
    "    encoder1 = encoder.naive_encoder(layers=1, directions =1, maxv=484, hiddensizes=100, bach_s=1)\n",
    "\n",
    "    decoder1 = decoder.attention_decoder(layers = 1, directions = 1, hiddensize = 100, input_length = 484, \n",
    "                     output_v = de_padding_line, output_length = len(deline.split(' ')), teacher_forcing = False)\n",
    "\n",
    "    #workers, _ = tf.test.create_local_cluster(1, 0) #python 3.6 <\n",
    "    #worker = workers[0] #python 3.6 < \n",
    "\n",
    "\n",
    "    with tf.Session() as sess:\n",
    "            \n",
    "        encoder1.hidden_init(sess)\n",
    "        encoder1.train(sess,padding_line)\n",
    "        \n",
    "        print(np.shape(encoder1.getoutput(sess,padding_line)))\n",
    "        print(np.shape(encoder1.getstate(sess,padding_line)))\n",
    "        \n",
    "        en_out = encoder1.getoutput(sess,padding_line)\n",
    "        en_state = encoder1.getstate(sess,padding_line)\n",
    "        decoder1.train(sess,en_out[0][0],en_state[0])"
   ]
  },
  {
   "cell_type": "code",
   "execution_count": null,
   "metadata": {
    "collapsed": false
   },
   "outputs": [],
   "source": [
    "#import portpicker"
   ]
  },
  {
   "cell_type": "code",
   "execution_count": null,
   "metadata": {
    "collapsed": false
   },
   "outputs": [],
   "source": []
  },
  {
   "cell_type": "code",
   "execution_count": null,
   "metadata": {
    "collapsed": true
   },
   "outputs": [],
   "source": []
  }
 ],
 "metadata": {
  "kernelspec": {
   "display_name": "Python 3",
   "language": "python",
   "name": "python3"
  },
  "language_info": {
   "codemirror_mode": {
    "name": "ipython",
    "version": 3
   },
   "file_extension": ".py",
   "mimetype": "text/x-python",
   "name": "python",
   "nbconvert_exporter": "python",
   "pygments_lexer": "ipython3",
   "version": "3.4.5"
  }
 },
 "nbformat": 4,
 "nbformat_minor": 2
}
