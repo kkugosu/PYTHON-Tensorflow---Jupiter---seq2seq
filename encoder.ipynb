{
 "cells": [
  {
   "cell_type": "code",
   "execution_count": 1,
   "metadata": {
    "collapsed": true
   },
   "outputs": [],
   "source": [
    "import tensorflow as tf\n",
    "import numpy as np"
   ]
  },
  {
   "cell_type": "code",
   "execution_count": 4,
   "metadata": {
    "collapsed": false
   },
   "outputs": [],
   "source": [
    "class naive_encoder(object): #python 2 3 compatibility\n",
    "    def __init__(self, layers, directions  , maxv, hiddensizes , bach_s):\n",
    "    \n",
    "        self.layer = layers\n",
    "        self.direction = directions\n",
    "        self.maxseq = maxv\n",
    "        self.hiddensize = hiddensizes\n",
    "        self.bach_size = bach_s\n",
    "        with tf.variable_scope('encoder_input') as scope:\n",
    "            self.input = tf.placeholder(dtype=\"float32\",shape=[self.bach_size, self.maxseq, self.hiddensize]) \n",
    "            #input_hist = tf.summary.histogram(\"inputv_hist\",self.input)\n",
    "            \n",
    "        with tf.variable_scope('encoder_gru') as scope:\n",
    "            self.gru = tf.nn.rnn_cell.GRUCell(num_units = self.hiddensize)\n",
    "            self.en_output, self.hidden = tf.nn.dynamic_rnn(self.gru, inputs = self.input, dtype=tf.float32)       \n",
    "            #en_hist = tf.summary.histogram(\"en_hist\",self.en_output)\n",
    "            #hidden_hist = tf.summary.histogram(\"hidden_hist\",self.hidden)\n",
    "\n",
    "    \n",
    "    def hidden_init(self,sess):\n",
    "        return sess.run(tf.global_variables_initializer())\n",
    "        \n",
    "        \n",
    "    def getoutput(self,sess, input_v):#encoder_decoder seperate training ver\n",
    "        return sess.run([self.en_output], feed_dict={self.input:input_v})#encoder_decoder seperate training ver\n",
    "    \n",
    "    \n",
    "    def getstate(self,sess,input_v):#encoder_decoder seperate training ver\n",
    "        return sess.run([self.hidden], feed_dict={self.input:input_v})#encoder_decoder seperate training ver\n",
    "    \n",
    "#    def getoutput(self):\n",
    "#        return self.en_output\n",
    "    \n",
    "#    def getstate(self):\n",
    "#        return self.hidden\n",
    "'''\n",
    "    def train(self, sess, input_v):\n",
    "        summary = tf.summary.merge_all()\n",
    "        writer = tf.summary.FileWriter(\"./testgru\")\n",
    "        writer.add_graph(sess.graph)\n",
    "        #print(\"hidden = \",sess.run([self.hidden], feed_dict={self.input:input_v}))\n",
    "        #print(\"en = \",sess.run([self.en_output], feed_dict={self.input:input_v}))\n",
    "        s = sess.run(summary,feed_dict={self.input:input_v})\n",
    "        writer.add_summary(s,0)\n",
    "        \n",
    "        return sess.run([self.hidden, self.en_output], feed_dict={self.input:input_v})\n",
    "'''"
   ]
  },
  {
   "cell_type": "code",
   "execution_count": 2,
   "metadata": {
    "collapsed": false
   },
   "outputs": [],
   "source": [
    "inputv = np.zeros((1,484,100),dtype=\"float32\")\n",
    "#inputv = tf.constant(0, shape=[1,484,100],dtype=\"float32\")\n",
    "#inputv = tf.Variable(tf.zeros(shape=[1,484,100],dtype=\"float32\"),dtype=\"float32\")\n",
    "gru = tf.nn.rnn_cell.GRUCell(num_units = 100)\n",
    "en_output, hidden = tf.nn.dynamic_rnn(gru, inputs = inputv, dtype=tf.float32)"
   ]
  },
  {
   "cell_type": "code",
   "execution_count": 7,
   "metadata": {
    "collapsed": false
   },
   "outputs": [
    {
     "data": {
      "text/plain": [
       "array([[[ 0.,  0.,  0., ...,  0.,  0.,  0.],\n",
       "        [ 0.,  0.,  0., ...,  0.,  0.,  0.],\n",
       "        [ 0.,  0.,  0., ...,  0.,  0.,  0.],\n",
       "        ..., \n",
       "        [ 0.,  0.,  0., ...,  0.,  0.,  0.],\n",
       "        [ 0.,  0.,  0., ...,  0.,  0.,  0.],\n",
       "        [ 0.,  0.,  0., ...,  0.,  0.,  0.]]], dtype=float32)"
      ]
     },
     "execution_count": 7,
     "metadata": {},
     "output_type": "execute_result"
    }
   ],
   "source": [
    "inputv = np.zeros((1,484,100),dtype=\"float32\")\n",
    "inputv"
   ]
  },
  {
   "cell_type": "code",
   "execution_count": null,
   "metadata": {
    "collapsed": true
   },
   "outputs": [],
   "source": []
  }
 ],
 "metadata": {
  "kernelspec": {
   "display_name": "Python 3",
   "language": "python",
   "name": "python3"
  },
  "language_info": {
   "codemirror_mode": {
    "name": "ipython",
    "version": 3
   },
   "file_extension": ".py",
   "mimetype": "text/x-python",
   "name": "python",
   "nbconvert_exporter": "python",
   "pygments_lexer": "ipython3",
   "version": "3.4.5"
  }
 },
 "nbformat": 4,
 "nbformat_minor": 2
}
