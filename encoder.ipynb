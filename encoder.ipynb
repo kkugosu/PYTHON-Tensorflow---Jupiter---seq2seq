{
 "cells": [
  {
   "cell_type": "code",
   "execution_count": 2,
   "metadata": {
    "collapsed": true
   },
   "outputs": [],
   "source": [
    "import tensorflow as tf\n",
    "import numpy as np"
   ]
  },
  {
   "cell_type": "code",
   "execution_count": 4,
   "metadata": {
    "collapsed": false
   },
   "outputs": [],
   "source": [
    "class naive_encoder(object): #python 2 3 compatibility\n",
    "    def __init__(self, layers, directions  , maxv, hiddensizes , bach_s , input_s):\n",
    "        self.layer = layers\n",
    "        self.direction = directions\n",
    "        self.maxseq = maxv\n",
    "        self.hiddensize = hiddensizes\n",
    "        self.bach_size = bach_s\n",
    "        self.input = input_s\n",
    "        \n",
    "        with tf.variable_scope('input') as scope:\n",
    "            self.input = tf.placeholder(dtype='float32', shape=[self.bach_size, self.maxseq, self.hiddensize])\n",
    "            \n",
    "        with tf.variable_scope('gru') as scope:\n",
    "            self.gru = tf.nn.rnn_cell.GRUCell(num_units = self.hiddensize)\n",
    "            self.en_output, self.hidden = tf.nn.dynamic_rnn(self.gru, inputs = self.input, dtype=tf.float32)       \n",
    "\n",
    "\n",
    "    \n",
    "    def hidden_init(self,sess):\n",
    "        return sess.run(tf.global_variables_initializer())\n",
    "        \n",
    "    def getoutput(self):\n",
    "        return self.en_output\n",
    "    \n",
    "    def getstate(self):\n",
    "        return self.hidden\n",
    "    \n",
    "    def train(self, sess, datainput):\n",
    "        return sess.run([self.input, self.gru, self.en_output],\n",
    "                        feed_dict={self.input:datainput})\n",
    "    "
   ]
  },
  {
   "cell_type": "code",
   "execution_count": null,
   "metadata": {
    "collapsed": true
   },
   "outputs": [],
   "source": []
  }
 ],
 "metadata": {
  "kernelspec": {
   "display_name": "Python 3",
   "language": "python",
   "name": "python3"
  },
  "language_info": {
   "codemirror_mode": {
    "name": "ipython",
    "version": 3
   },
   "file_extension": ".py",
   "mimetype": "text/x-python",
   "name": "python",
   "nbconvert_exporter": "python",
   "pygments_lexer": "ipython3",
   "version": "3.4.5"
  }
 },
 "nbformat": 4,
 "nbformat_minor": 2
}
