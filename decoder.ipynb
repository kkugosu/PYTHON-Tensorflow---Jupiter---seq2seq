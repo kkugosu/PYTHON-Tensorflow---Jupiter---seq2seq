{
 "cells": [
  {
   "cell_type": "code",
   "execution_count": 1,
   "metadata": {
    "collapsed": true
   },
   "outputs": [],
   "source": [
    "import tensorflow as tf\n",
    "import numpy as np\n"
   ]
  },
  {
   "cell_type": "code",
   "execution_count": 2,
   "metadata": {
    "collapsed": true
   },
   "outputs": [],
   "source": [
    "import io,os,sys,types\n",
    "from IPython import get_ipython #for import notebook\n",
    "from nbformat import read #for import notebook\n",
    "from IPython.core.interactiveshell import InteractiveShell #for import notebook"
   ]
  },
  {
   "cell_type": "code",
   "execution_count": 4,
   "metadata": {
    "collapsed": true
   },
   "outputs": [],
   "source": [
    "def find_notebook(fullname, path=None): #for import notebook\n",
    "    \"\"\"find a notebook, given its fully qualified name and an optional path\n",
    "\n",
    "    This turns \"foo.bar\" into \"foo/bar.ipynb\"\n",
    "    and tries turning \"Foo_Bar\" into \"Foo Bar\" if Foo_Bar\n",
    "    does not exist.\n",
    "    \"\"\"\n",
    "    name = fullname.rsplit('.', 1)[-1]\n",
    "    if not path:\n",
    "        path = ['']\n",
    "    for d in path:\n",
    "        nb_path = os.path.join(d, name + \".ipynb\")\n",
    "        if os.path.isfile(nb_path):\n",
    "            return nb_path\n",
    "        # let import Notebook_Name find \"Notebook Name.ipynb\"\n",
    "        nb_path = nb_path.replace(\"_\", \" \")\n",
    "        if os.path.isfile(nb_path):\n",
    "            return nb_path"
   ]
  },
  {
   "cell_type": "code",
   "execution_count": 5,
   "metadata": {
    "collapsed": true
   },
   "outputs": [],
   "source": [
    "class NotebookLoader(object): #for import notebook\n",
    "    \"\"\"Module Loader for Jupyter Notebooks\"\"\"\n",
    "    def __init__(self, path=None):\n",
    "        self.shell = InteractiveShell.instance()\n",
    "        self.path = path\n",
    "\n",
    "    def load_module(self, fullname):\n",
    "        \"\"\"import a notebook as a module\"\"\"\n",
    "        path = find_notebook(fullname, self.path)\n",
    "\n",
    "        print (\"importing Jupyter notebook from %s\" % path)\n",
    "\n",
    "        # load the notebook object\n",
    "        with io.open(path, 'r', encoding='utf-8') as f:\n",
    "            nb = read(f, 4)\n",
    "\n",
    "\n",
    "        # create the module and add it to sys.modules\n",
    "        # if name in sys.modules:\n",
    "        #    return sys.modules[name]\n",
    "        mod = types.ModuleType(fullname)\n",
    "        mod.__file__ = path\n",
    "        mod.__loader__ = self\n",
    "        mod.__dict__['get_ipython'] = get_ipython\n",
    "        sys.modules[fullname] = mod\n",
    "\n",
    "        # extra work to ensure that magics that would affect the user_ns\n",
    "        # actually affect the notebook module's ns\n",
    "        save_user_ns = self.shell.user_ns\n",
    "        self.shell.user_ns = mod.__dict__\n",
    "\n",
    "        try:\n",
    "          for cell in nb.cells:\n",
    "            if cell.cell_type == 'code':\n",
    "                # transform the input to executable Python\n",
    "                code = self.shell.input_transformer_manager.transform_cell(cell.source)\n",
    "                # run the code in themodule\n",
    "                exec(code, mod.__dict__)\n",
    "        finally:\n",
    "            self.shell.user_ns = save_user_ns\n",
    "        return mod\n",
    "class NotebookFinder(object):\n",
    "    \"\"\"Module finder that locates Jupyter Notebooks\"\"\"\n",
    "    def __init__(self):\n",
    "        self.loaders = {}\n",
    "\n",
    "    def find_module(self, fullname, path=None):\n",
    "        nb_path = find_notebook(fullname, path)\n",
    "        if not nb_path:\n",
    "            return\n",
    "\n",
    "        key = path\n",
    "        if path:\n",
    "            # lists aren't hashable\n",
    "            key = os.path.sep.join(path)\n",
    "\n",
    "        if key not in self.loaders:\n",
    "            self.loaders[key] = NotebookLoader(path)\n",
    "        return self.loaders[key]"
   ]
  },
  {
   "cell_type": "code",
   "execution_count": 7,
   "metadata": {
    "collapsed": true
   },
   "outputs": [],
   "source": [
    "sys.meta_path.append(NotebookFinder())\n",
    "import myprepdata"
   ]
  },
  {
   "cell_type": "code",
   "execution_count": 2,
   "metadata": {
    "collapsed": false
   },
   "outputs": [],
   "source": [
    "\n",
    "class attention_decoder(object):\n",
    "    def __init__(self, layers, directions, hiddensize, input_length, \n",
    "                 output_v, output_length, teacher_forcing): # encoder_out, state will be feed\n",
    "        \n",
    "        layers = 1\n",
    "        directions = 1\n",
    "        hiddensize = 100\n",
    "        self.hiddensize = hiddensize\n",
    "        \n",
    "        with tf.variable_scope('input') as scope:\n",
    "            input_length = 484\n",
    "            self.input_v = tf.placeholder(dtype='float32', shape=[1, input_length, self.hiddensize])#encoder_output\n",
    "            \n",
    "            \n",
    "        with tf.variable_scope('output') as scope:\n",
    "            self.output = tf.Variable(tf.zeros([self.hiddensize]),dtype='float32') #my output segment\n",
    "            self.output_v = output_v #real full output\n",
    " \n",
    "\n",
    "        with tf.variable_scope('grustate') as scope:\n",
    "            self.grustate = tf.placeholder(dtype='float32', shape=[1, self.hiddensize])#encoder_state\n",
    "            \n",
    "        teacher_forcing = False\n",
    "        \n",
    "        \n",
    "        self.gru = tf.nn.rnn_cell.GRUCell(num_units = hiddensize)\n",
    "        \n",
    "        with tf.variable_scope('var') as scope:\n",
    "            self.W1 = tf.Variable(tf.zeros([self.hiddensize*2, input_length]), dtype='float32')\n",
    "            self.W2 = tf.Variable(tf.zeros([self.hiddensize*2, self.hiddensize]), dtype='float32')\n",
    "            self.b1 = tf.Variable(tf.zeros([input_length]), dtype='float32')\n",
    "            self.b2 = tf.Variable(tf.zeros([self.hiddensize]), dtype='float32')\n",
    "            \n",
    "        encoder_output_state = tf.concat([self.output, self.grustate],1) # 1*100 + 1*100 = 1*200\n",
    "        \n",
    "        length = np.zeros(output_length)\n",
    "        self.last_status = tf.scan(self.nt_atten, length , initializer = encoder_output_state) #my full output\n",
    "        \n",
    "    def nt_atten(self, grustate_output ,ignore): #not teacher forcing\n",
    "\n",
    "        with tf.variable_scope(\"split\") as scope:\n",
    "            self.grustate, self.output = tf.split(grustate_output, num_or_size_splits=2, axis=1)\n",
    "            _ = ignore\n",
    "        with tf.variable_scope(\"gru\") as scope:\n",
    "\n",
    "            self.grustate, self.output =self.gru.call(self.grustate, self.output )\n",
    "\n",
    "            #word = myprepdata.findwordsfromvec(output.eval())\n",
    "            #print(word)\n",
    "            #np_output = myprepdata.findvecfromwords(word)\n",
    "            #output = tf.Variable(np_output, dtype=\"float32\")\n",
    "\n",
    "        with tf.variable_scope(\"atten\") as scope:\n",
    "            attn = tf.concat([self.grustate, self.output],1)#concat and linear\n",
    "            attn = tf.add(tf.matmul(attn , self.W1),self.b1) # needs W initialize\n",
    "            attn = tf.nn.softmax(tf.nn.relu(attn))\n",
    "\n",
    "        with tf.variable_scope(\"bmm\") as scope:\n",
    "            bmm = tf.matmul( attn,self.input_v)\n",
    "\n",
    "        with tf.variable_scope(\"comb\") as scope:\n",
    "            attn_com = tf.concat([bmm, self.output],1 )\n",
    "            attn_com = tf.add(tf.matmul(attn_com,self.W2),self.b2)\n",
    "            self.output = tf.nn.relu(attn_com)\n",
    "\n",
    "        with tf.variable_scope(\"concat\") as scope:\n",
    "            grustate_output = tf.concat([self.grustate, self.output],1)\n",
    "\n",
    "        return grustate_output\n",
    "\n",
    "    def train(self,sess,input_v,grustate):\n",
    "        sess.run([self.last_status],feed_dict = {self.input_v:input_v, self.grustate: grustate})\n",
    "\n",
    "    \n",
    "    def hidden_init(self,sess):\n",
    "        return sess.run(tf.global_variables_initializer())\n"
   ]
  },
  {
   "cell_type": "code",
   "execution_count": null,
   "metadata": {
    "collapsed": true
   },
   "outputs": [],
   "source": [
    "\n",
    "'''\n",
    "with tf.Session() as sess:\n",
    "    sess.run(tf.global_variables_initializer())\n",
    "    summary = tf.summary.merge_all()\n",
    "    writer = tf.summary.FileWriter(\"./testgru\")\n",
    "    writer.add_graph(sess.graph)\n",
    "    i = 0\n",
    "    step = 0\n",
    "    \n",
    "    print(sess.run([last_status],feed_dict={input_v: np.zeros((484, 100))}))\n",
    "    \n",
    "    #s = sess.run(summary)\n",
    "    #writer.add_summary(s,i)\n",
    "    i = i + 1\n",
    "'''"
   ]
  },
  {
   "cell_type": "code",
   "execution_count": 8,
   "metadata": {
    "collapsed": false
   },
   "outputs": [
    {
     "name": "stdout",
     "output_type": "stream",
     "text": [
      "Tensor(\"strided_slice_1:0\", shape=(), dtype=float32)\n"
     ]
    }
   ],
   "source": [
    "#c = tf.add(c, b)\n",
    "'''\n",
    "with tf.variable_scope('gru') as scope:\n",
    "    a = tf.Variable([[1,0,0,0]],dtype=\"float32\")\n",
    "    b = tf.Variable([[0,1,0,0]],dtype=\"float32\")\n",
    "    k = tf.assign(b,tf.subtract(b,a))\n",
    "    c = tf.Variable([[0,0,1,0]],dtype=\"float32\")\n",
    "print(a[0][2])\n",
    "i = 0\n",
    "\n",
    "with tf.variable_scope('gruu') as scope:\n",
    "    while(i < 10):\n",
    "        c = tf.add(b,c)\n",
    "        c = tf.add(b,c)\n",
    "        i = i + 1\n",
    "    #b = tf.add(a,b)\n",
    "    \n",
    "with tf.variable_scope('gruuu') as scope:\n",
    "    ppp = tf.assign(a,tf.subtract(b,a))\n",
    "    qqq = tf.assign(b,tf.subtract(b,c))\n",
    "    a_v = tf.summary.histogram(\"a\",a)#not drowed in graph\n",
    "    b_v = tf.summary.histogram(\"b\",b)\n",
    "    c_v = tf.summary.histogram(\"c\",c)\n",
    "'''"
   ]
  },
  {
   "cell_type": "code",
   "execution_count": null,
   "metadata": {
    "collapsed": true
   },
   "outputs": [],
   "source": [
    "'''\n",
    "with tf.Session() as sess:\n",
    "    sess.run(tf.global_variables_initializer())\n",
    "    summary = tf.summary.merge_all()\n",
    "    writer = tf.summary.FileWriter(\"./testgru\")\n",
    "    writer.add_graph(sess.graph)\n",
    "    i = 0\n",
    "    step = 0\n",
    "    \n",
    "    print(sess.run([b]))\n",
    "    print(sess.run([c]))\n",
    "    print(sess.run([ppp]))\n",
    "    print(sess.run([b]))\n",
    "    print(sess.run([ppp]))\n",
    "    print(sess.run([a]))\n",
    "    print(sess.run([b]))\n",
    "    print(sess.run([ppp]))\n",
    "    print(sess.run([ppp]))\n",
    "\n",
    "    \n",
    "    \n",
    "\n",
    "    s = sess.run(summary)\n",
    "    writer.add_summary(s,i)\n",
    "    i = i + 1\n",
    "'''"
   ]
  },
  {
   "cell_type": "code",
   "execution_count": 9,
   "metadata": {
    "collapsed": false
   },
   "outputs": [
    {
     "data": {
      "text/plain": [
       "\"\\na0 = tf.constant([[[1, 1, 1], [2, 2, 2]], [[3, 3, 3], [4, 4, 4]], [[5, 5, 5], [6, 6, 6]]], dtype = 'float32')\\n\\n\\nb0 = tf.slice(a , [0, 0, 0], [3, 2, 3])\\nb1 = tf.slice(a , [0, 0, 1], [1, 1, 2])\\nb2 = tf.slice(a , [0, 0, 0], [1, 1, 3])\\nb3 = tf.slice(a , [0, 0, 1], [-1, -1, 2])\\nb4 = tf.slice(a , [0, 0, 0], [1, 0, 2])\\nb5 = tf.slice(a , [0, 0, 0], [1, 0, 3])\\nsess = tf.Session()\\nsess.run(tf.global_variables_initializer())\\nsess.run([b,b1,b2,b3,b4,b5])\\n\""
      ]
     },
     "execution_count": 9,
     "metadata": {},
     "output_type": "execute_result"
    }
   ],
   "source": [
    "'''\n",
    "a0 = tf.constant([[[1, 1, 1], [2, 2, 2]], [[3, 3, 3], [4, 4, 4]], [[5, 5, 5], [6, 6, 6]]], dtype = 'float32')\n",
    "\n",
    "\n",
    "b0 = tf.slice(a , [0, 0, 0], [3, 2, 3])\n",
    "b1 = tf.slice(a , [0, 0, 1], [1, 1, 2])\n",
    "b2 = tf.slice(a , [0, 0, 0], [1, 1, 3])\n",
    "b3 = tf.slice(a , [0, 0, 1], [-1, -1, 2])\n",
    "b4 = tf.slice(a , [0, 0, 0], [1, 0, 2])\n",
    "b5 = tf.slice(a , [0, 0, 0], [1, 0, 3])\n",
    "sess = tf.Session()\n",
    "sess.run(tf.global_variables_initializer())\n",
    "sess.run([b,b1,b2,b3,b4,b5])\n",
    "'''"
   ]
  },
  {
   "cell_type": "code",
   "execution_count": 3,
   "metadata": {
    "collapsed": false
   },
   "outputs": [],
   "source": [
    "'''\n",
    "hiddensize = 100\n",
    "maxv = 484\n",
    "teacher_forcing = False\n",
    "with tf.variable_scope('grustate') as scope:\n",
    "    grustate = tf.Variable(tf.zeros([1,hiddensize]),dtype='float32')\n",
    "    \n",
    "with tf.variable_scope('output') as scope:\n",
    "    output = tf.Variable(tf.zeros([1,hiddensize]),dtype='float32')\n",
    "    \n",
    "with tf.variable_scope('var') as scope:\n",
    "    W1 = tf.Variable(tf.zeros([hiddensize*2, maxv]), dtype='float32')\n",
    "    W2 = tf.Variable(tf.zeros([hiddensize*2, hiddensize]), dtype='float32')\n",
    "    b1 = tf.Variable(tf.zeros([maxv]), dtype='float32')\n",
    "    b2 = tf.Variable(tf.zeros([hiddensize]), dtype='float32')\n",
    "    i = 0\n",
    "    \n",
    "with tf.variable_scope('input') as scope:\n",
    "    input_v = tf.placeholder(dtype='float32', shape=[ maxv, hiddensize])\n",
    "\n",
    "encoder_output_state = tf.concat([output, grustate],1)\n",
    "\n",
    "def nt_atten(grustate_output ,ignore): #not teacher forcing\n",
    "    \n",
    "    with tf.variable_scope(\"split\") as scope:\n",
    "        grustate, output = tf.split(grustate_output, num_or_size_splits=2, axis=1)\n",
    "        _ = ignore\n",
    "    with tf.variable_scope(\"gru\") as scope:\n",
    "        gru = tf.nn.rnn_cell.GRUCell(num_units = hiddensize)\n",
    "        grustate, output =gru.call(grustate, output )\n",
    "\n",
    "        #word = myprepdata.findwordsfromvec(output.eval())\n",
    "        #print(word)\n",
    "        #np_output = myprepdata.findvecfromwords(word)\n",
    "        #output = tf.Variable(np_output, dtype=\"float32\")\n",
    "        \n",
    "    with tf.variable_scope(\"atten\") as scope:\n",
    "        attn = tf.concat([output, grustate],1)#concat and linear\n",
    "        attn = tf.add(tf.matmul(attn , W1),b1) # needs W initialize\n",
    "        attn = tf.nn.softmax(tf.nn.relu(attn))\n",
    "        \n",
    "    with tf.variable_scope(\"bmm\") as scope:\n",
    "        bmm = tf.matmul( attn,input_v)\n",
    "        \n",
    "    with tf.variable_scope(\"comb\") as scope:\n",
    "        attn_com = tf.concat([bmm, output],1 )\n",
    "        attn_com = tf.add(tf.matmul(attn_com,W2),b2)\n",
    "        output = tf.nn.relu(attn_com)\n",
    "        \n",
    "    with tf.variable_scope(\"concat\") as scope:\n",
    "        grustate_output = tf.concat([output, grustate],1)\n",
    "    \n",
    "    return grustate_output\n",
    "\n",
    "length = np.zeros(5)\n",
    "last_status = tf.scan(nt_atten, length , initializer = encoder_output_state)\n",
    "'''\n",
    " "
   ]
  },
  {
   "cell_type": "code",
   "execution_count": 3,
   "metadata": {
    "collapsed": false
   },
   "outputs": [
    {
     "name": "stdout",
     "output_type": "stream",
     "text": [
      "[array([[[ 0.,  0.,  0., ...,  0.,  0.,  0.]],\n",
      "\n",
      "       [[ 0.,  0.,  0., ...,  0.,  0.,  0.]],\n",
      "\n",
      "       [[ 0.,  0.,  0., ...,  0.,  0.,  0.]],\n",
      "\n",
      "       ..., \n",
      "       [[ 0.,  0.,  0., ...,  0.,  0.,  0.]],\n",
      "\n",
      "       [[ 0.,  0.,  0., ...,  0.,  0.,  0.]],\n",
      "\n",
      "       [[ 0.,  0.,  0., ...,  0.,  0.,  0.]]], dtype=float32)]\n"
     ]
    }
   ],
   "source": [
    "'''\n",
    "with tf.Session() as sess:\n",
    "    sess.run(tf.global_variables_initializer())\n",
    "    summary = tf.summary.merge_all()\n",
    "    writer = tf.summary.FileWriter(\"./testgru\")\n",
    "    writer.add_graph(sess.graph)\n",
    "    i = 0\n",
    "    step = 0\n",
    "    \n",
    "    print(sess.run([last_status],feed_dict={input_v: np.zeros((484, 100))}))\n",
    "    \n",
    "    #s = sess.run(summary)\n",
    "    #writer.add_summary(s,i)\n",
    "    i = i + 1\n",
    "'''"
   ]
  },
  {
   "cell_type": "code",
   "execution_count": 6,
   "metadata": {
    "collapsed": false
   },
   "outputs": [
    {
     "data": {
      "text/plain": [
       "()"
      ]
     },
     "execution_count": 6,
     "metadata": {},
     "output_type": "execute_result"
    }
   ],
   "source": [
    "np.shape(np.array(0))"
   ]
  },
  {
   "cell_type": "code",
   "execution_count": 5,
   "metadata": {
    "collapsed": false
   },
   "outputs": [
    {
     "data": {
      "text/plain": [
       "(1,)"
      ]
     },
     "execution_count": 5,
     "metadata": {},
     "output_type": "execute_result"
    }
   ],
   "source": [
    "np.shape(np.array([0]))"
   ]
  },
  {
   "cell_type": "code",
   "execution_count": null,
   "metadata": {
    "collapsed": true
   },
   "outputs": [],
   "source": []
  }
 ],
 "metadata": {
  "kernelspec": {
   "display_name": "Python 3",
   "language": "python",
   "name": "python3"
  },
  "language_info": {
   "codemirror_mode": {
    "name": "ipython",
    "version": 3
   },
   "file_extension": ".py",
   "mimetype": "text/x-python",
   "name": "python",
   "nbconvert_exporter": "python",
   "pygments_lexer": "ipython3",
   "version": "3.4.5"
  }
 },
 "nbformat": 4,
 "nbformat_minor": 2
}
