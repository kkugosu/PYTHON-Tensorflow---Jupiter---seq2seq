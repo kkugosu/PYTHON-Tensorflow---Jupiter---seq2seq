{
 "cells": [
  {
   "cell_type": "code",
   "execution_count": 25,
   "metadata": {
    "collapsed": false
   },
   "outputs": [],
   "source": [
    "import tensorflow as tf\n",
    "import numpy as np\n"
   ]
  },
  {
   "cell_type": "code",
   "execution_count": 26,
   "metadata": {
    "collapsed": true
   },
   "outputs": [],
   "source": [
    "import io,os,sys,types\n",
    "from IPython import get_ipython #for import notebook\n",
    "from nbformat import read #for import notebook\n",
    "from IPython.core.interactiveshell import InteractiveShell #for import notebook"
   ]
  },
  {
   "cell_type": "code",
   "execution_count": 27,
   "metadata": {
    "collapsed": true
   },
   "outputs": [],
   "source": [
    "def find_notebook(fullname, path=None): #for import notebook\n",
    "    \"\"\"find a notebook, given its fully qualified name and an optional path\n",
    "\n",
    "    This turns \"foo.bar\" into \"foo/bar.ipynb\"\n",
    "    and tries turning \"Foo_Bar\" into \"Foo Bar\" if Foo_Bar\n",
    "    does not exist.\n",
    "    \"\"\"\n",
    "    name = fullname.rsplit('.', 1)[-1]\n",
    "    if not path:\n",
    "        path = ['']\n",
    "    for d in path:\n",
    "        nb_path = os.path.join(d, name + \".ipynb\")\n",
    "        if os.path.isfile(nb_path):\n",
    "            return nb_path\n",
    "        # let import Notebook_Name find \"Notebook Name.ipynb\"\n",
    "        nb_path = nb_path.replace(\"_\", \" \")\n",
    "        if os.path.isfile(nb_path):\n",
    "            return nb_path"
   ]
  },
  {
   "cell_type": "code",
   "execution_count": 28,
   "metadata": {
    "collapsed": true
   },
   "outputs": [],
   "source": [
    "class NotebookLoader(object): #for import notebook\n",
    "    \"\"\"Module Loader for Jupyter Notebooks\"\"\"\n",
    "    def __init__(self, path=None):\n",
    "        self.shell = InteractiveShell.instance()\n",
    "        self.path = path\n",
    "\n",
    "    def load_module(self, fullname):\n",
    "        \"\"\"import a notebook as a module\"\"\"\n",
    "        path = find_notebook(fullname, self.path)\n",
    "\n",
    "        print (\"importing Jupyter notebook from %s\" % path)\n",
    "\n",
    "        # load the notebook object\n",
    "        with io.open(path, 'r', encoding='utf-8') as f:\n",
    "            nb = read(f, 4)\n",
    "\n",
    "\n",
    "        # create the module and add it to sys.modules\n",
    "        # if name in sys.modules:\n",
    "        #    return sys.modules[name]\n",
    "        mod = types.ModuleType(fullname)\n",
    "        mod.__file__ = path\n",
    "        mod.__loader__ = self\n",
    "        mod.__dict__['get_ipython'] = get_ipython\n",
    "        sys.modules[fullname] = mod\n",
    "\n",
    "        # extra work to ensure that magics that would affect the user_ns\n",
    "        # actually affect the notebook module's ns\n",
    "        save_user_ns = self.shell.user_ns\n",
    "        self.shell.user_ns = mod.__dict__\n",
    "\n",
    "        try:\n",
    "          for cell in nb.cells:\n",
    "            if cell.cell_type == 'code':\n",
    "                # transform the input to executable Python\n",
    "                code = self.shell.input_transformer_manager.transform_cell(cell.source)\n",
    "                # run the code in themodule\n",
    "                exec(code, mod.__dict__)\n",
    "        finally:\n",
    "            self.shell.user_ns = save_user_ns\n",
    "        return mod\n",
    "class NotebookFinder(object):\n",
    "    \"\"\"Module finder that locates Jupyter Notebooks\"\"\"\n",
    "    def __init__(self):\n",
    "        self.loaders = {}\n",
    "\n",
    "    def find_module(self, fullname, path=None):\n",
    "        nb_path = find_notebook(fullname, path)\n",
    "        if not nb_path:\n",
    "            return\n",
    "\n",
    "        key = path\n",
    "        if path:\n",
    "            # lists aren't hashable\n",
    "            key = os.path.sep.join(path)\n",
    "\n",
    "        if key not in self.loaders:\n",
    "            self.loaders[key] = NotebookLoader(path)\n",
    "        return self.loaders[key]"
   ]
  },
  {
   "cell_type": "code",
   "execution_count": 30,
   "metadata": {
    "collapsed": false
   },
   "outputs": [
    {
     "name": "stdout",
     "output_type": "stream",
     "text": [
      "importing Jupyter notebook from myprepdata.ipynb\n",
      "[('he', 0.9606667160987854),\n",
      " ('She', 0.7691636085510254),\n",
      " ('herself', 0.7592681646347046),\n",
      " ('He', 0.7463222742080688),\n",
      " ('nobody', 0.7147209644317627),\n",
      " ('Picard', 0.6965363025665283),\n",
      " ('himself', 0.6882157921791077),\n",
      " ('him', 0.6789597272872925),\n",
      " ('her', 0.6740684509277344),\n",
      " ('Kirk', 0.667111337184906)]\n",
      "0\n",
      "1\n",
      "4\n",
      "10\n",
      "21\n",
      "23\n",
      "314\n",
      "977\n",
      "2771\n",
      "11984\n",
      "12819\n",
      "112232\n",
      "161069\n",
      "414849\n",
      "529926\n",
      "708644\n",
      "1079277\n",
      "1916152\n",
      "1949607\n",
      "1949617\n",
      "2191402\n",
      "4391595\n"
     ]
    }
   ],
   "source": [
    "sys.meta_path.append(NotebookFinder())\n",
    "import myprepdata"
   ]
  },
  {
   "cell_type": "code",
   "execution_count": 2,
   "metadata": {
    "collapsed": false
   },
   "outputs": [
    {
     "ename": "IndentationError",
     "evalue": "expected an indented block (<ipython-input-2-c9de766d5ffd>, line 27)",
     "output_type": "error",
     "traceback": [
      "\u001b[0;36m  File \u001b[0;32m\"<ipython-input-2-c9de766d5ffd>\"\u001b[0;36m, line \u001b[0;32m27\u001b[0m\n\u001b[0;31m    def gru_decoder():\u001b[0m\n\u001b[0m      ^\u001b[0m\n\u001b[0;31mIndentationError\u001b[0m\u001b[0;31m:\u001b[0m expected an indented block\n"
     ]
    }
   ],
   "source": [
    "class attention_decoder(object):\n",
    "    def __init__(self, layers, directions  , maxv, hiddensizes , input_v , output_v, en_state, teacher_forcing):\n",
    "        \n",
    "        self.grustate = en_state\n",
    "        self.output = tf.Variable(tf.zeros([self.hiddensize]),dtype='float32')\n",
    "        self.W = tf.Variable(tf.zeros([self.hiddensizes*2, maxv]), dtype='float32')\n",
    "        i = 0\n",
    "        with tf.variable_scope('input') as scope:\n",
    "            self.input = tf.placeholder(dtype='float32', shape=[1, self.maxl, self.hiddensize])\n",
    "            \n",
    "        tf.slice(self.input,[0,0,0],[0,i,self.hiddensize]\n",
    "        with tf.variable_scope('gru') as scope:\n",
    "            self.gru = tf.nn.rnn_cell.GRUCell(num_units = self.hiddensize)\n",
    "            if teacher_forcing:\n",
    "                while(i < maxv): #teacher forcing\n",
    "                    self.grustate, self.output =self.gru.call(self.grustate,tf.slice(output_v,[0,0,0],[0,i,self.hiddensize] ))\n",
    "                    i = i + 1\n",
    "                i = 0\n",
    "            else:\n",
    "                while(i < maxv): #not teacher forcing\n",
    "                    self.grustate, self.output =self.gru.call(self.grustate, self.output ))\n",
    "                    word = myprepdata.findwordsfromvec(self.output)\n",
    "                    self.output = myprepdata.findvecfromwords(word)\n",
    "                    attn = tf.concat(0,[self.output, self.grustate])#concat and linear\n",
    "                    attn = tf.matmul(attn , self.W) # needs W initialize\n",
    "                    attn = tf.nn.softmax(attn)\n",
    "                    bmm = tf.matmul(attn, input_v)\n",
    "                    \n",
    "                    i = i +1\n",
    "                i = 0\n",
    "\n",
    "                \n",
    "        with tf.variable_scope('decoder') as scope:\n",
    "            init_hid = tf.Variable(tf.zeros([100], tf.float32),dtype=\"float32\")\n",
    "            decell = tf.nn.rnn_cell.GRUCell(num_units=100)\n",
    "            deoutputs, _destates = tf.nn.dynamic_rnn(decell, inputs = inputv, dtype=tf.float32)\n",
    "   \n",
    "    def find_mostsim(self,inputv):\n",
    "        return\n",
    "        \n",
    "    def gru_decoder(self):\n",
    "        return\n",
    "    \n",
    "    def hidden_init(self):\n",
    "        return sess.run(tf.global_variables_initializer())"
   ]
  },
  {
   "cell_type": "code",
   "execution_count": null,
   "metadata": {
    "collapsed": true
   },
   "outputs": [],
   "source": [
    "gru = tf.nn.rnn_cell.GRUCell"
   ]
  },
  {
   "cell_type": "code",
   "execution_count": null,
   "metadata": {
    "collapsed": false
   },
   "outputs": [],
   "source": []
  },
  {
   "cell_type": "code",
   "execution_count": null,
   "metadata": {
    "collapsed": false
   },
   "outputs": [],
   "source": [
    "#c = tf.add(c, b)\n",
    "\n",
    "a = tf.Variable([[1,0,0,0]],dtype=\"float32\")\n",
    "b = tf.Variable([[0,1,0,0]],dtype=\"float32\")\n",
    "k = tf.assign(b,tf.subtract(b,a))\n",
    "c = tf.Variable([[0,0,1,0]],dtype=\"float32\")\n",
    "print(a[0][2])\n",
    "i = 0\n",
    "while(i < 10):\n",
    "    c = tf.add(b,c)\n",
    "    c = tf.add(b,c)\n",
    "    i = i + 1\n",
    "#b = tf.add(a,b)\n",
    "ppp = tf.assign(a,tf.subtract(b,a))\n",
    "qqq = tf.assign(b,tf.subtract(b,c))\n",
    "sess = tf.Session()\n",
    "sess.run(tf.global_variables_initializer())"
   ]
  },
  {
   "cell_type": "code",
   "execution_count": 5,
   "metadata": {
    "collapsed": false
   },
   "outputs": [
    {
     "name": "stdout",
     "output_type": "stream",
     "text": [
      "[array([[ 0.,  1.,  0.,  0.]], dtype=float32)]\n",
      "[array([[  0.,  20.,   1.,   0.]], dtype=float32)]\n",
      "[array([[-1.,  1.,  0.,  0.]], dtype=float32)]\n",
      "[array([[ 0.,  1.,  0.,  0.]], dtype=float32)]\n",
      "[array([[ 1.,  0.,  0.,  0.]], dtype=float32)]\n",
      "[array([[ 1.,  0.,  0.,  0.]], dtype=float32)]\n",
      "[array([[ 0.,  1.,  0.,  0.]], dtype=float32)]\n",
      "[array([[-1.,  1.,  0.,  0.]], dtype=float32)]\n",
      "[array([[ 1.,  0.,  0.,  0.]], dtype=float32)]\n"
     ]
    }
   ],
   "source": [
    "print(sess.run([b]))\n",
    "print(sess.run([c]))\n",
    "print(sess.run([ppp]))\n",
    "print(sess.run([b]))\n",
    "print(sess.run([ppp]))\n",
    "print(sess.run([a]))\n",
    "print(sess.run([b]))\n",
    "print(sess.run([ppp]))\n",
    "print(sess.run([ppp]))"
   ]
  },
  {
   "cell_type": "code",
   "execution_count": null,
   "metadata": {
    "collapsed": false
   },
   "outputs": [],
   "source": [
    "print(sess.run([c]))\n"
   ]
  },
  {
   "cell_type": "code",
   "execution_count": null,
   "metadata": {
    "collapsed": false
   },
   "outputs": [],
   "source": [
    "print(sess.run([c]))"
   ]
  },
  {
   "cell_type": "code",
   "execution_count": null,
   "metadata": {
    "collapsed": false
   },
   "outputs": [],
   "source": [
    "p = tf.assign(c, b)"
   ]
  },
  {
   "cell_type": "code",
   "execution_count": null,
   "metadata": {
    "collapsed": false
   },
   "outputs": [],
   "source": [
    "zero_tsr = tf.Variable([0,0])\n",
    "tf.assign(zero_tsr,[4,5])\n"
   ]
  },
  {
   "cell_type": "code",
   "execution_count": null,
   "metadata": {
    "collapsed": false
   },
   "outputs": [],
   "source": [
    "sess.run([zero_tsr])"
   ]
  },
  {
   "cell_type": "code",
   "execution_count": null,
   "metadata": {
    "collapsed": true
   },
   "outputs": [],
   "source": [
    "tf.train.GradientDescentOptimizer()"
   ]
  },
  {
   "cell_type": "code",
   "execution_count": 22,
   "metadata": {
    "collapsed": false
   },
   "outputs": [
    {
     "data": {
      "text/plain": [
       "[array([[[ 1.,  1.,  1.],\n",
       "         [ 2.,  2.,  2.]],\n",
       " \n",
       "        [[ 3.,  3.,  3.],\n",
       "         [ 4.,  4.,  4.]],\n",
       " \n",
       "        [[ 5.,  5.,  5.],\n",
       "         [ 6.,  6.,  6.]]], dtype=float32),\n",
       " array([[[ 1.,  1.]]], dtype=float32),\n",
       " array([[[ 1.,  1.,  1.]]], dtype=float32),\n",
       " array([[[ 1.,  1.],\n",
       "         [ 2.,  2.]],\n",
       " \n",
       "        [[ 3.,  3.],\n",
       "         [ 4.,  4.]],\n",
       " \n",
       "        [[ 5.,  5.],\n",
       "         [ 6.,  6.]]], dtype=float32),\n",
       " array([], shape=(1, 0, 2), dtype=float32),\n",
       " array([], shape=(1, 0, 3), dtype=float32)]"
      ]
     },
     "execution_count": 22,
     "metadata": {},
     "output_type": "execute_result"
    }
   ],
   "source": [
    "a = tf.constant([[[1, 1, 1], [2, 2, 2]], [[3, 3, 3], [4, 4, 4]], [[5, 5, 5], [6, 6, 6]]], dtype = 'float32')\n",
    "\n",
    "\n",
    "b = tf.slice(a , [0, 0, 0], [3, 2, 3])\n",
    "b1 = tf.slice(a , [0, 0, 1], [1, 1, 2])\n",
    "b2 = tf.slice(a , [0, 0, 0], [1, 1, 3])\n",
    "b3 = tf.slice(a , [0, 0, 1], [-1, -1, 2])\n",
    "b4 = tf.slice(a , [0, 0, 0], [1, 0, 2])\n",
    "b5 = tf.slice(a , [0, 0, 0], [1, 0, 3])\n",
    "sess = tf.Session()\n",
    "sess.run(tf.global_variables_initializer())\n",
    "sess.run([b,b1,b2,b3,b4,b5])\n"
   ]
  },
  {
   "cell_type": "code",
   "execution_count": null,
   "metadata": {
    "collapsed": true
   },
   "outputs": [],
   "source": []
  }
 ],
 "metadata": {
  "kernelspec": {
   "display_name": "Python 3",
   "language": "python",
   "name": "python3"
  },
  "language_info": {
   "codemirror_mode": {
    "name": "ipython",
    "version": 3
   },
   "file_extension": ".py",
   "mimetype": "text/x-python",
   "name": "python",
   "nbconvert_exporter": "python",
   "pygments_lexer": "ipython3",
   "version": "3.4.5"
  }
 },
 "nbformat": 4,
 "nbformat_minor": 2
}
