{
 "cells": [
  {
   "cell_type": "code",
   "execution_count": 1,
   "metadata": {},
   "outputs": [],
   "source": [
    "import tensorflow as tf\n",
    "import multiprocessing\n",
    "from gensim.models import word2vec\n",
    "import nltk\n",
    "import os,sys\n",
    "from pprint import pprint\n",
    "import numpy as np"
   ]
  },
  {
   "cell_type": "code",
   "execution_count": 2,
   "metadata": {},
   "outputs": [],
   "source": [
    "#tf.__version__"
   ]
  },
  {
   "cell_type": "code",
   "execution_count": 3,
   "metadata": {},
   "outputs": [],
   "source": [
    "#nltk.download('reuters')"
   ]
  },
  {
   "cell_type": "code",
   "execution_count": 4,
   "metadata": {},
   "outputs": [],
   "source": [
    "#nltk.download('movie_reviews')\n",
    "#from nltk.corpus import movie_reviews"
   ]
  },
  {
   "cell_type": "code",
   "execution_count": 5,
   "metadata": {},
   "outputs": [],
   "source": [
    "#documents = [movie_reviews.words(fileid)\n",
    "#             for fileid in movie_reviews.fileids()]"
   ]
  },
  {
   "cell_type": "code",
   "execution_count": 6,
   "metadata": {},
   "outputs": [],
   "source": [
    "#print (documents[0])"
   ]
  },
  {
   "cell_type": "code",
   "execution_count": 7,
   "metadata": {},
   "outputs": [],
   "source": [
    "#wv_model_en.build_vocab(documents)"
   ]
  },
  {
   "cell_type": "code",
   "execution_count": 8,
   "metadata": {},
   "outputs": [],
   "source": [
    "#wv_model_en.train(documents)"
   ]
  },
  {
   "cell_type": "code",
   "execution_count": 9,
   "metadata": {
    "collapsed": true
   },
   "outputs": [],
   "source": [
    "#wv_model_en.save('en_wv_model')\n",
    "#pprint(wv_model_en.most_similar('plot'))"
   ]
  },
  {
   "cell_type": "code",
   "execution_count": 2,
   "metadata": {},
   "outputs": [],
   "source": [
    "config = {'workers' : multiprocessing.cpu_count()}\n",
    "wv_model_en = word2vec.Word2Vec(**config)"
   ]
  },
  {
   "cell_type": "code",
   "execution_count": 3,
   "metadata": {},
   "outputs": [],
   "source": [
    "if ( os.path.isfile(\"./en_wv_model2\") == False):\n",
    "    results = []\n",
    "    with open('./tok_dataset/train.tok.clean.bpe.32000.en') as inputfile:\n",
    "        for line in inputfile:\n",
    "            results.append(line.strip().split(' '))\n",
    "    print (results[0])\n",
    "    wv_model_en.build_vocab(results)\n",
    "    wv_model_en.train(results)\n",
    "    wv_model_en.save('en_wv_model2')\n",
    "wv_model_en = word2vec.Word2Vec.load('en_wv_model2')"
   ]
  },
  {
   "cell_type": "code",
   "execution_count": 4,
   "metadata": {},
   "outputs": [
    {
     "name": "stdout",
     "output_type": "stream",
     "text": [
      "[('he', 0.9606667160987854),\n",
      " ('She', 0.7691636085510254),\n",
      " ('herself', 0.7592681646347046),\n",
      " ('He', 0.7463222742080688),\n",
      " ('nobody', 0.7147209644317627),\n",
      " ('Picard', 0.6965363025665283),\n",
      " ('himself', 0.6882157921791077),\n",
      " ('him', 0.6789597272872925),\n",
      " ('her', 0.6740684509277344),\n",
      " ('Kirk', 0.667111337184906)]\n"
     ]
    }
   ],
   "source": [
    "pprint(wv_model_en.most_similar('she'))"
   ]
  },
  {
   "cell_type": "code",
   "execution_count": 16,
   "metadata": {},
   "outputs": [
    {
     "data": {
      "text/plain": [
       "[('Res@@', 1.000000238418579)]"
      ]
     },
     "execution_count": 16,
     "metadata": {},
     "output_type": "execute_result"
    }
   ],
   "source": [
    "wv_model_en.most_similar(positive = [myarray],topn=1)"
   ]
  },
  {
   "cell_type": "code",
   "execution_count": 20,
   "metadata": {},
   "outputs": [
    {
     "data": {
      "text/plain": [
       "array([-3.02355266,  2.65770698, -2.35238767, -2.13904524, -4.10760736,\n",
       "       -1.74954808,  3.28393292,  0.23336163,  3.72322059,  0.6358369 ,\n",
       "       -3.2300756 ,  3.46046042,  2.53427124, -0.09626415, -1.24609995,\n",
       "        0.58082944, -0.6017099 , -0.90264297,  1.42516601, -0.81789315,\n",
       "        1.37801886, -1.65504146,  2.9845984 ,  1.06771719,  0.4433957 ,\n",
       "       -0.61463279, -1.57559466,  0.01465587,  3.93884635, -1.17664111,\n",
       "       -1.18250942, -4.74591351, -1.32518911, -2.18759394, -2.75675583,\n",
       "        0.40421486, -3.68815684,  3.73364401, -0.69537836,  6.61843109,\n",
       "        0.88308978, -1.7362355 ,  2.60926652, -2.27268386, -3.49155259,\n",
       "        3.42230439, -1.78578472,  0.18024692,  3.2202332 , -0.90308034,\n",
       "       -3.92977381,  0.0799524 ,  1.26451361,  1.38942969, -3.57334208,\n",
       "       -1.2319237 ,  0.12343937,  1.88676536,  0.96209639,  1.8965106 ,\n",
       "        0.27904293,  1.82127249, -5.50454426,  2.5347178 ,  0.71473742,\n",
       "        3.25168896, -5.17507458, -5.26744986,  0.34619576, -1.08834231,\n",
       "       -0.92084676,  1.1637404 ,  2.07615995,  1.542961  , -0.1750177 ,\n",
       "        0.25737983,  1.16529047, -0.16889675,  3.00541353,  0.50981557,\n",
       "        2.15078592,  1.52345073,  0.35389212,  1.09491289, -3.09058738,\n",
       "        1.99276686, -1.67458177, -1.30454385, -3.85368204, -2.01392078,\n",
       "       -1.5847466 ,  1.68325651, -1.55445874, -1.26760769,  1.36121666,\n",
       "       -1.07144403, -0.51744115,  0.17732501,  0.13720544,  1.11817157], dtype=float32)"
      ]
     },
     "execution_count": 20,
     "metadata": {},
     "output_type": "execute_result"
    }
   ],
   "source": [
    "wv_model_en.wv['she']"
   ]
  },
  {
   "cell_type": "code",
   "execution_count": 14,
   "metadata": {},
   "outputs": [],
   "source": [
    "myarray = np.array([-0.67258787, -4.15615225, -1.72683489,  1.6745466 , -0.66765279,\n",
    "        1.20479822, -0.54290372, -0.17763264, -6.63635206, -3.36331749,\n",
    "       -1.20754302, -4.75114679,  3.3733356 , -2.00328326,  1.61597621,\n",
    "       -2.5903039 ,  3.89082551,  2.05730581, -0.37433237, -1.15445471,\n",
    "        0.9606185 ,  4.23989391,  1.05038905, -1.0970273 , -3.27382827,\n",
    "        1.57637691, -4.19764471, -2.15746975,  2.48696518, -0.61238277,\n",
    "       -1.74696052, -0.37781578,  0.34524947,  2.54945087, -1.64452887,\n",
    "        0.57680875, -0.14833695,  1.02612078, -0.26212877, -0.51345897,\n",
    "       -1.39085841,  0.09278773, -1.48713863, -0.46643406,  7.02497864,\n",
    "        2.74286199, -0.83628732, -1.48309898, -0.32239187, -3.01059842,\n",
    "        1.07048142, -3.00496078,  0.34531841,  3.417485  ,  2.11597872,\n",
    "        0.14785768,  0.43224403,  0.61093956, -2.73394179, -1.91496217,\n",
    "       -2.31602764,  2.11022353,  3.03709865,  0.61163723,  0.87978035,\n",
    "       -1.34368658, -4.88440132, -1.7299546 , -0.21339908, -1.17470872,\n",
    "       -2.59537339,  1.38333321,  0.88531542,  0.43189961,  1.67749929,\n",
    "       -1.24953771,  1.51133716, -1.71328628,  2.10449433,  0.8787359 ,\n",
    "        4.48812008, -0.84192741,  3.90984416,  0.00753402,  2.64509892,\n",
    "        2.40421772,  1.52942765, -1.00621092, -0.50308841,  0.01391463,\n",
    "       -0.20117365,  1.02307236,  4.01931715, -0.79575706,  0.7374779 ,\n",
    "        1.36256838, -1.06702769, -0.8350783 ,  0.61838496,  1.31033885], dtype='float32')"
   ]
  },
  {
   "cell_type": "code",
   "execution_count": null,
   "metadata": {
    "collapsed": true
   },
   "outputs": [],
   "source": [
    "pprint()"
   ]
  },
  {
   "cell_type": "code",
   "execution_count": 18,
   "metadata": {},
   "outputs": [],
   "source": [
    "results = []\n"
   ]
  },
  {
   "cell_type": "code",
   "execution_count": 20,
   "metadata": {},
   "outputs": [],
   "source": [
    "with open('./tok_dataset/train.tok.clean.bpe.32000.en') as inputfile:\n",
    "    for line in inputfile:\n",
    "        #np.append(results,line,axis=0)\n",
    "        results.append(line.strip())\n"
   ]
  },
  {
   "cell_type": "code",
   "execution_count": 21,
   "metadata": {},
   "outputs": [
    {
     "data": {
      "text/plain": [
       "4500966"
      ]
     },
     "execution_count": 21,
     "metadata": {},
     "output_type": "execute_result"
    }
   ],
   "source": [
    "len(results)"
   ]
  },
  {
   "cell_type": "code",
   "execution_count": null,
   "metadata": {},
   "outputs": [],
   "source": []
  },
  {
   "cell_type": "code",
   "execution_count": 22,
   "metadata": {},
   "outputs": [
    {
     "data": {
      "text/plain": [
       "str"
      ]
     },
     "execution_count": 22,
     "metadata": {},
     "output_type": "execute_result"
    }
   ],
   "source": [
    "type(results[0])"
   ]
  },
  {
   "cell_type": "code",
   "execution_count": 23,
   "metadata": {},
   "outputs": [
    {
     "data": {
      "text/plain": [
       "31"
      ]
     },
     "execution_count": 23,
     "metadata": {},
     "output_type": "execute_result"
    }
   ],
   "source": [
    "len(results[0])"
   ]
  },
  {
   "cell_type": "code",
   "execution_count": 24,
   "metadata": {},
   "outputs": [
    {
     "data": {
      "text/plain": [
       "6"
      ]
     },
     "execution_count": 24,
     "metadata": {},
     "output_type": "execute_result"
    }
   ],
   "source": [
    "len(results[0].split(' '))"
   ]
  },
  {
   "cell_type": "code",
   "execution_count": 25,
   "metadata": {},
   "outputs": [
    {
     "data": {
      "text/plain": [
       "'Res@@'"
      ]
     },
     "execution_count": 25,
     "metadata": {},
     "output_type": "execute_result"
    }
   ],
   "source": [
    "results[0].split(' ')[0]"
   ]
  },
  {
   "cell_type": "code",
   "execution_count": 26,
   "metadata": {},
   "outputs": [],
   "source": [
    "#amount(results[0][1])"
   ]
  },
  {
   "cell_type": "code",
   "execution_count": 29,
   "metadata": {},
   "outputs": [
    {
     "data": {
      "text/plain": [
       "array([-0.67258787, -4.15615225, -1.72683489,  1.6745466 , -0.66765279,\n",
       "        1.20479822, -0.54290372, -0.17763264, -6.63635206, -3.36331749,\n",
       "       -1.20754302, -4.75114679,  3.3733356 , -2.00328326,  1.61597621,\n",
       "       -2.5903039 ,  3.89082551,  2.05730581, -0.37433237, -1.15445471,\n",
       "        0.9606185 ,  4.23989391,  1.05038905, -1.0970273 , -3.27382827,\n",
       "        1.57637691, -4.19764471, -2.15746975,  2.48696518, -0.61238277,\n",
       "       -1.74696052, -0.37781578,  0.34524947,  2.54945087, -1.64452887,\n",
       "        0.57680875, -0.14833695,  1.02612078, -0.26212877, -0.51345897,\n",
       "       -1.39085841,  0.09278773, -1.48713863, -0.46643406,  7.02497864,\n",
       "        2.74286199, -0.83628732, -1.48309898, -0.32239187, -3.01059842,\n",
       "        1.07048142, -3.00496078,  0.34531841,  3.417485  ,  2.11597872,\n",
       "        0.14785768,  0.43224403,  0.61093956, -2.73394179, -1.91496217,\n",
       "       -2.31602764,  2.11022353,  3.03709865,  0.61163723,  0.87978035,\n",
       "       -1.34368658, -4.88440132, -1.7299546 , -0.21339908, -1.17470872,\n",
       "       -2.59537339,  1.38333321,  0.88531542,  0.43189961,  1.67749929,\n",
       "       -1.24953771,  1.51133716, -1.71328628,  2.10449433,  0.8787359 ,\n",
       "        4.48812008, -0.84192741,  3.90984416,  0.00753402,  2.64509892,\n",
       "        2.40421772,  1.52942765, -1.00621092, -0.50308841,  0.01391463,\n",
       "       -0.20117365,  1.02307236,  4.01931715, -0.79575706,  0.7374779 ,\n",
       "        1.36256838, -1.06702769, -0.8350783 ,  0.61838496,  1.31033885], dtype=float32)"
      ]
     },
     "execution_count": 29,
     "metadata": {},
     "output_type": "execute_result"
    }
   ],
   "source": [
    "wv_model_en.wv[results[0].split(' ')[0]]"
   ]
  },
  {
   "cell_type": "code",
   "execution_count": 44,
   "metadata": {},
   "outputs": [],
   "source": [
    "#reswv = [[]]\n",
    "#count = 0\n",
    "#for newresults in results:\n",
    "#    count = count+1\n",
    "#    print(count)\n",
    "#    prereswv = []\n",
    "#    for i in newresults.split(' '):\n",
    "#        prereswv.append(wv_model_en.wv[i])\n",
    "#        \n",
    "#    reswv.append(prereswv)  ---------> vector per sentence is impossible"
   ]
  },
  {
   "cell_type": "code",
   "execution_count": 53,
   "metadata": {},
   "outputs": [
    {
     "name": "stdout",
     "output_type": "stream",
     "text": [
      "0\n",
      "1\n",
      "4\n",
      "10\n",
      "21\n",
      "23\n",
      "314\n",
      "977\n",
      "2771\n",
      "11984\n",
      "12819\n",
      "112232\n",
      "161069\n",
      "414849\n",
      "529926\n",
      "708644\n",
      "1079277\n",
      "1916152\n",
      "1949607\n",
      "1949617\n",
      "2191402\n",
      "4391595\n"
     ]
    },
    {
     "data": {
      "text/plain": [
       "484"
      ]
     },
     "execution_count": 53,
     "metadata": {},
     "output_type": "execute_result"
    }
   ],
   "source": [
    "i = 0\n",
    "maxl = 0\n",
    "ind = 0\n",
    "while i < len(results):\n",
    "    if (maxl < len(results[i].split(' '))):\n",
    "        maxl = len(results[i].split(' '))\n",
    "        ind = i\n",
    "        print(ind)\n",
    "    i = i + 1\n",
    "\n",
    "maxl"
   ]
  },
  {
   "cell_type": "code",
   "execution_count": null,
   "metadata": {
    "collapsed": true
   },
   "outputs": [],
   "source": [
    "model.most"
   ]
  },
  {
   "cell_type": "code",
   "execution_count": 61,
   "metadata": {},
   "outputs": [
    {
     "data": {
      "text/plain": [
       "'Would it be appropriate for you , Madam President , to write a letter to the Sri L@@ ank@@ an President expressing Parliament &apos;s regret at his and the other violent deaths in Sri Lanka and ur@@ ging her to do everything she possibly can to seek a peaceful reconciliation to a very difficult situation ?'"
      ]
     },
     "execution_count": 61,
     "metadata": {},
     "output_type": "execute_result"
    }
   ],
   "source": [
    "results[10]"
   ]
  },
  {
   "cell_type": "code",
   "execution_count": 21,
   "metadata": {},
   "outputs": [],
   "source": [
    "def prepdata(): #per sentence\n",
    "    return results\n",
    "def wvmodel(): #w2v\n",
    "    return wv_model_en\n",
    "def maxlength():\n",
    "    return maxl\n",
    "\n",
    "def findwordsfromvec(myarray):\n",
    "    return wv_model_en.most_similar(positive = [myarray],topn=1)\n",
    "def findvecfromwords(myword):\n",
    "    return wv_model_en.wv(myword)\n",
    "\n",
    "def tensorremake(tensor):\n",
    "    \n",
    "    return newtensor"
   ]
  },
  {
   "cell_type": "code",
   "execution_count": 51,
   "metadata": {},
   "outputs": [
    {
     "data": {
      "text/plain": [
       "13"
      ]
     },
     "execution_count": 51,
     "metadata": {},
     "output_type": "execute_result"
    }
   ],
   "source": [
    "len(results[10000].split(' '))"
   ]
  },
  {
   "cell_type": "code",
   "execution_count": 22,
   "metadata": {},
   "outputs": [],
   "source": [
    "#class trsdata(object):\n",
    "#    def __init__(self):\n",
    "#        self.data = neres"
   ]
  },
  {
   "cell_type": "code",
   "execution_count": 23,
   "metadata": {},
   "outputs": [],
   "source": [
    "#from konlpy.tag import Kkma, Twitter"
   ]
  },
  {
   "cell_type": "code",
   "execution_count": 24,
   "metadata": {},
   "outputs": [],
   "source": [
    "#print(Kkma().pos(\"오버워치\"))\n"
   ]
  },
  {
   "cell_type": "code",
   "execution_count": 25,
   "metadata": {},
   "outputs": [],
   "source": [
    "#Twitter().pos(\"오버워치\")\n"
   ]
  },
  {
   "cell_type": "code",
   "execution_count": 26,
   "metadata": {
    "collapsed": true
   },
   "outputs": [],
   "source": [
    "#import codecs\n",
    "#tagger = Twitter()\n",
    "#corpus = codecs.open('corpus.txt', 'w', encoding='utf-8')"
   ]
  },
  {
   "cell_type": "code",
   "execution_count": 27,
   "metadata": {
    "collapsed": true
   },
   "outputs": [],
   "source": [
    "#def flat(content):\n",
    "#    return [\"{}/{}\".format(word, tag) for word, tag in tagger.pos(content)]\n",
    "\n",
    "#corpus.write(' '.join(flat(\"메이드복 입은 제이미 귀엽다\")) + '\\n')"
   ]
  },
  {
   "cell_type": "code",
   "execution_count": 28,
   "metadata": {},
   "outputs": [],
   "source": [
    "#import codecs\n",
    "\n",
    "#def read_data(filename):\n",
    "#    with codecs.open(filename, encoding='utf-8', mode='r') as f:\n",
    "#        data = [line.split('\\t') for line in f.read().splitlines()]\n",
    "#        data = data[1:]   # header 제외\n",
    "#    return data\n",
    "\n",
    "#train_data = read_data('/home/dockeruser/data/nsmc/ratings_train.txt')"
   ]
  },
  {
   "cell_type": "code",
   "execution_count": null,
   "metadata": {
    "collapsed": true
   },
   "outputs": [],
   "source": [
    " "
   ]
  }
 ],
 "metadata": {
  "anaconda-cloud": {},
  "kernelspec": {
   "display_name": "Python 3",
   "language": "python",
   "name": "python3"
  },
  "language_info": {
   "codemirror_mode": {
    "name": "ipython",
    "version": 3
   },
   "file_extension": ".py",
   "mimetype": "text/x-python",
   "name": "python",
   "nbconvert_exporter": "python",
   "pygments_lexer": "ipython3",
   "version": "3.6.3"
  }
 },
 "nbformat": 4,
 "nbformat_minor": 1
}
